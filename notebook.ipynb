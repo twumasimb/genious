{
 "cells": [
  {
   "cell_type": "code",
   "execution_count": null,
   "metadata": {},
   "outputs": [],
   "source": [
    "from datasets import load_dataset\n",
    "import datasets\n",
    "\n",
    "def download_book_corpus(directory):\n",
    "    # Load the dataset\n",
    "    raw_datasets = load_dataset('bookcorpus')\n",
    "    print(raw_datasets)\n",
    "    print(f\"Size of raw data: {len(raw_datasets['train'])}\")\n",
    "    # Save the train and validate datasets to disk\n",
    "    \n",
    "    raw_datasets=raw_datasets[\"train\"].train_test_split(test_size=0.95, shuffle=False)\n",
    "    print(f\"Size of new split raw: {len(raw_datasets['train'])}\")\n",
    "\n",
    "    train_val_split = raw_datasets['train'].train_test_split(test_size=0.3, shuffle=False)\n",
    "    print(f\"Size of train_val_split: {len(train_val_split['train'])}\")\n",
    "\n",
    "    train_dataset = train_val_split[\"train\"]\n",
    "    print(f\"Size of raw data: {len(train_dataset)}\")\n",
    "\n",
    "    val_dataset = train_val_split[\"test\"]\n",
    "    print(f\"Size of raw data: {len(val_dataset)}\")\n",
    "    \n",
    "    raw_datasets=datasets.DatasetDict({\"train\": train_dataset, \"validation\": val_dataset})\n",
    "    print(raw_datasets)\n",
    "    print(f\"Size of train: {len(raw_datasets['train'])}\")\n",
    "    print(f\"Size of test: {len(raw_datasets['validation'])}\")\n",
    "    \n",
    "    raw_datasets.save_to_disk(directory)\n",
    "    # dataset['test'].save_to_disk(directory + '/validation')\n",
    "\n",
    "# Call the function\n",
    "download_book_corpus('./data')"
   ]
  }
 ],
 "metadata": {
  "kernelspec": {
   "display_name": "genious",
   "language": "python",
   "name": "python3"
  },
  "language_info": {
   "codemirror_mode": {
    "name": "ipython",
    "version": 3
   },
   "file_extension": ".py",
   "mimetype": "text/x-python",
   "name": "python",
   "nbconvert_exporter": "python",
   "pygments_lexer": "ipython3",
   "version": "3.9.18"
  }
 },
 "nbformat": 4,
 "nbformat_minor": 2
}
