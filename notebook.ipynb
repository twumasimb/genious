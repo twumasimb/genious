{
 "cells": [
  {
   "cell_type": "code",
   "execution_count": 1,
   "metadata": {},
   "outputs": [
    {
     "name": "stderr",
     "output_type": "stream",
     "text": [
      "/opt/anaconda3/envs/genious/lib/python3.9/site-packages/tqdm/auto.py:22: TqdmWarning: IProgress not found. Please update jupyter and ipywidgets. See https://ipywidgets.readthedocs.io/en/stable/user_install.html\n",
      "  from .autonotebook import tqdm as notebook_tqdm\n",
      "Reusing dataset bookcorpus (/home/UNT/tm0663/.cache/huggingface/datasets/bookcorpus/plain_text/1.0.0/44662c4a114441c35200992bea923b170e6f13f2f0beb7c14e43759cec498700)\n",
      "100%|██████████| 1/1 [00:01<00:00,  1.52s/it]\n"
     ]
    }
   ],
   "source": [
    "from datasets import load_dataset\n",
    "\n",
    "def download_book_corpus(directory):\n",
    "    # Load the dataset\n",
    "    dataset_dict = load_dataset('bookcorpus')\n",
    "\n",
    "    # Access the 'train' dataset\n",
    "    # dataset = dataset_dict['train']\n",
    "\n",
    "    # # Split the dataset into train and validate sets\n",
    "    # dataset = dataset.train_test_split(test_size=0.2, seed=42)\n",
    "\n",
    "    # Save the train and validate datasets to disk\n",
    "    dataset_dict.save_to_disk(directory)\n",
    "    # dataset['test'].save_to_disk(directory + '/validation')\n",
    "\n",
    "# Call the function\n",
    "download_book_corpus('/home/UNT/tm0663/Documents/Projects/genious/datasets')"
   ]
  },
  {
   "cell_type": "code",
   "execution_count": null,
   "metadata": {},
   "outputs": [],
   "source": [
    "from train import main"
   ]
  }
 ],
 "metadata": {
  "kernelspec": {
   "display_name": "genious",
   "language": "python",
   "name": "python3"
  },
  "language_info": {
   "codemirror_mode": {
    "name": "ipython",
    "version": 3
   },
   "file_extension": ".py",
   "mimetype": "text/x-python",
   "name": "python",
   "nbconvert_exporter": "python",
   "pygments_lexer": "ipython3",
   "version": "3.9.18"
  }
 },
 "nbformat": 4,
 "nbformat_minor": 2
}
