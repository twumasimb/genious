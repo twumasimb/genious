{
 "cells": [
  {
   "cell_type": "code",
   "execution_count": null,
   "metadata": {},
   "outputs": [],
   "source": [
    "from datasets import load_dataset\n",
    "import datasets\n",
    "\n",
    "def download_book_corpus(directory, init_split=0.95, val_split=0.3):\n",
    "    # Load the dataset\n",
    "    raw_datasets = load_dataset('bookcorpus')\n",
    "    \n",
    "    raw_datasets=raw_datasets[\"train\"].train_test_split(test_size=init_split, shuffle=False)\n",
    "    print(f\"Size of new split raw: {len(raw_datasets['train'])}\")\n",
    "\n",
    "    train_val_split = raw_datasets['train'].train_test_split(test_size=val_split, shuffle=False)\n",
    "    print(f\"Size of train_val_split: {len(train_val_split['train'])}\")\n",
    "    \n",
    "    raw_datasets=datasets.DatasetDict({\"train\": train_val_split[\"train\"], \"validation\": train_val_split[\"test\"]})\n",
    "    \n",
    "    raw_datasets.save_to_disk(directory)\n",
    "    \n",
    "# Call the function\n",
    "download_book_corpus('./data')"
   ]
  }
 ],
 "metadata": {
  "kernelspec": {
   "display_name": "genious",
   "language": "python",
   "name": "python3"
  },
  "language_info": {
   "codemirror_mode": {
    "name": "ipython",
    "version": 3
   },
   "file_extension": ".py",
   "mimetype": "text/x-python",
   "name": "python",
   "nbconvert_exporter": "python",
   "pygments_lexer": "ipython3",
   "version": "3.9.18"
  }
 },
 "nbformat": 4,
 "nbformat_minor": 2
}
