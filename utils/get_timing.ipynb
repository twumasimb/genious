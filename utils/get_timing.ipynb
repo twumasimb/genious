{
 "cells": [
  {
   "cell_type": "code",
   "execution_count": 1,
   "metadata": {},
   "outputs": [],
   "source": [
    "import datetime"
   ]
  },
  {
   "cell_type": "code",
   "execution_count": 71,
   "metadata": {},
   "outputs": [],
   "source": [
    "def get_timing(logfiledir, logfile, step):\n",
    "    onemillionbert=[14256.0,28401.0,42505.0,56592.0,70861.0,84953.0,99054.0,113147.0,127415.0,141503.0]\n",
    "    # onemillionbert=[29670.0,59605.7043,89546.7043,119495.70430000001,149442.7043,179391.7043,209332.7043,239276.7043,269197.7043,299146.7043]\n",
    "    start_time=datetime.datetime.now()\n",
    "    end_time=datetime.datetime.now()\n",
    "    cpu_time=0\n",
    "    gpu_time=0\n",
    "    representations_time=0\n",
    "    d={}\n",
    "    with open(logfile, \"r\") as f:\n",
    "        prev_line=\"\"\n",
    "        for line in f:\n",
    "            if \"***** Running training *****\" in line:\n",
    "                l=line.split()\n",
    "                start_time=datetime.datetime.strptime(l[0]+\" \"+l[1], \"%m/%d/%Y %H:%M:%S\")\n",
    "            if \"subset selection time\" in line or \"SMI algorithm Subset Selection time\" in line:\n",
    "                cpu_time+=float(line.split()[-1])\n",
    "            if \"Representations Size\" in line:\n",
    "                l1=prev_line.split()\n",
    "                l2=line.split()\n",
    "                # print(l1)\n",
    "                t1=datetime.datetime.strptime(l1[0]+\" \"+l1[1], \"%m/%d/%Y %H:%M:%S\")\n",
    "                t2=datetime.datetime.strptime(l2[0]+\" \"+l2[1], \"%m/%d/%Y %H:%M:%S\")\n",
    "                representations_time+=(t2-t1).total_seconds()\n",
    "            if \"Completed Steps: \" in line:\n",
    "                l=line.split()\n",
    "                s=int(l[9].strip(\";\"))\n",
    "                if s==step:\n",
    "                    end_time=datetime.datetime.strptime(l[0]+\" \"+l[1], \"%m/%d/%Y %H:%M:%S\")\n",
    "                    break\n",
    "            prev_line=line\n",
    "    # print(step)\n",
    "    # print(f\"CPU time: {cpu_time}\")\n",
    "    # print(f\"GPU time: {(end_time-start_time).total_seconds()-cpu_time}\")\n",
    "    # print(f\"total time: {(end_time-start_time).total_seconds()}\")\n",
    "    # print(\"-------------------------------\")\n",
    "    print(representations_time+onemillionbert[step//50000-1])\n",
    "    # print((end_time-start_time).total_seconds()-cpu_time-representations_time)"
   ]
  },
  {
   "cell_type": "code",
   "execution_count": 72,
   "metadata": {},
   "outputs": [],
   "source": [
    "logfiledir=\"/home/hrenduchinta/LM-pretraining/logs/fl_from_11062022_175356_bert_logs_08_07_2022_09:26:36\"\n",
    "logfile=f\"{logfiledir}/train_logs.log\""
   ]
  },
  {
   "cell_type": "code",
   "execution_count": 73,
   "metadata": {},
   "outputs": [
    {
     "name": "stdout",
     "output_type": "stream",
     "text": [
      "23850.0\n",
      "47591.0\n",
      "71317.0\n",
      "95011.0\n",
      "118910.0\n"
     ]
    }
   ],
   "source": [
    "for step in range(50000, 300000, 50000):\n",
    "    get_timing(logfiledir, logfile, step)"
   ]
  },
  {
   "cell_type": "code",
   "execution_count": null,
   "metadata": {},
   "outputs": [],
   "source": []
  },
  {
   "cell_type": "code",
   "execution_count": 74,
   "metadata": {},
   "outputs": [
    {
     "name": "stdout",
     "output_type": "stream",
     "text": [
      "137357.0\n",
      "161098.0\n",
      "184824.0\n",
      "208518.0\n",
      "232417.0\n"
     ]
    }
   ],
   "source": [
    "l=[23850.0,47591.0,71317.0,95011.0,118910.0]\n",
    "for i in l:\n",
    "    print(i+113507.0)"
   ]
  },
  {
   "cell_type": "code",
   "execution_count": 14,
   "metadata": {},
   "outputs": [
    {
     "name": "stdout",
     "output_type": "stream",
     "text": [
      "CPU time: 2251.2516\n",
      "GPU time: 15611.7484\n",
      "Total time: 17863.0\n"
     ]
    }
   ],
   "source": [
    "get_timing(logfiledir, logfile, 50000)"
   ]
  },
  {
   "cell_type": "code",
   "execution_count": 21,
   "metadata": {},
   "outputs": [
    {
     "name": "stdout",
     "output_type": "stream",
     "text": [
      "365.2957\n",
      "20398.0\n",
      "320240.0\n"
     ]
    }
   ],
   "source": [
    "logfile=\"/home/hrenduchinta/LM-pretraining/logs/logs/logs_gpt2_fl_19_09_2022_09:45:14/train_logs.log\"\n",
    "start_time=datetime.datetime.now()\n",
    "end_time=datetime.datetime.now()\n",
    "subset_selection_time=0.0\n",
    "representations_time=0.0\n",
    "with open(logfile, \"r\") as f:\n",
    "    prev_line=\"\"\n",
    "    for line in f:\n",
    "        if \"***** Running training *****\" in line:\n",
    "            l=line.split()\n",
    "            start_time=datetime.datetime.strptime(l[0]+\" \"+l[1], \"%m/%d/%Y %H:%M:%S\")\n",
    "        if \"Saving the final model\" in line:\n",
    "            l=line.split()\n",
    "            end_time=datetime.datetime.strptime(l[0]+\" \"+l[1], \"%m/%d/%Y %H:%M:%S\")\n",
    "        if \"time\" in line:\n",
    "            subset_selection_time+=float(line.split()[-1])\n",
    "        if \"Representations Size\" in line:\n",
    "            l1=prev_line.split()\n",
    "            l2=line.split()\n",
    "            # print(l1)\n",
    "            t1=datetime.datetime.strptime(l1[0]+\" \"+l1[1], \"%m/%d/%Y %H:%M:%S\")\n",
    "            t2=datetime.datetime.strptime(l2[0]+\" \"+l2[1], \"%m/%d/%Y %H:%M:%S\")\n",
    "            representations_time+=(t2-t1).total_seconds()\n",
    "        prev_line=line\n",
    "print(subset_selection_time)\n",
    "print(representations_time)\n",
    "print((end_time-start_time).total_seconds())"
   ]
  },
  {
   "cell_type": "code",
   "execution_count": 20,
   "metadata": {},
   "outputs": [],
   "source": [
    "gpu_time=0\n",
    "for i in l:\n",
    "    gpu_time+=i[0]"
   ]
  },
  {
   "cell_type": "code",
   "execution_count": 12,
   "metadata": {},
   "outputs": [
    {
     "name": "stdout",
     "output_type": "stream",
     "text": [
      "subset selection time 14803.9218\n",
      "96338.0\n",
      "gpu time: 81534.0782\n"
     ]
    }
   ],
   "source": [
    "from datetime import datetime\n",
    "with open(\"/home/hrenduchinta/LM-pretraining/logs/fl_bert_12_09_2022_15:35:34/train_logs.log\", \"r\") as f:\n",
    "  for line in f:\n",
    "    if \"***** Running training *****\" in line:\n",
    "      l=line.split()\n",
    "      start_time=datetime.strptime(l[0]+\" \"+l[1], \"%m/%d/%Y %H:%M:%S\")\n",
    "    if \"Completed Steps: 250000\" in line:\n",
    "      l=line.split()\n",
    "      end_time=datetime.strptime(l[0]+\" \"+l[1], \"%m/%d/%Y %H:%M:%S\")\n",
    "    if \"time\" in line:\n",
    "      subset_selection_time=float(line.split()[-1])\n",
    "      print(\"subset selection time\", subset_selection_time)\n",
    "print((end_time-start_time).total_seconds())\n",
    "print(\"gpu time:\", (end_time-start_time).total_seconds()-subset_selection_time)"
   ]
  },
  {
   "cell_type": "code",
   "execution_count": 1,
   "metadata": {},
   "outputs": [],
   "source": [
    "with open(\"/home/hrenduchinta/LM-pretraining/logs/fl_bert_12_09_2022_15:35:34/train_logs.log\", \"r\") as f:\n",
    "    for line in f:\n",
    "        if \"Timing:\" in line:\n",
    "            l=line.strip().split(\"Timing: \")[1].lstrip(\"[\").rstrip(\"]\")"
   ]
  },
  {
   "cell_type": "code",
   "execution_count": 3,
   "metadata": {},
   "outputs": [],
   "source": [
    "l=[s.strip().lstrip(\"[\").rstrip(\"]\") for s in l.split(\"], [\")]"
   ]
  },
  {
   "cell_type": "code",
   "execution_count": 5,
   "metadata": {},
   "outputs": [
    {
     "data": {
      "text/plain": [
       "500000"
      ]
     },
     "execution_count": 5,
     "metadata": {},
     "output_type": "execute_result"
    }
   ],
   "source": [
    "len(l)"
   ]
  },
  {
   "cell_type": "code",
   "execution_count": 9,
   "metadata": {},
   "outputs": [
    {
     "data": {
      "text/plain": [
       "'2.4081366062164307, 0'"
      ]
     },
     "execution_count": 9,
     "metadata": {},
     "output_type": "execute_result"
    }
   ],
   "source": [
    "l[0]"
   ]
  },
  {
   "cell_type": "code",
   "execution_count": 10,
   "metadata": {},
   "outputs": [],
   "source": [
    "total_gpu_time=0\n",
    "for i in range(250000):\n",
    "    total_gpu_time+=float(l[i].split(\",\")[0])"
   ]
  },
  {
   "cell_type": "code",
   "execution_count": 11,
   "metadata": {},
   "outputs": [
    {
     "data": {
      "text/plain": [
       "61767.45213007927"
      ]
     },
     "execution_count": 11,
     "metadata": {},
     "output_type": "execute_result"
    }
   ],
   "source": [
    "total_gpu_time"
   ]
  },
  {
   "cell_type": "code",
   "execution_count": null,
   "metadata": {},
   "outputs": [],
   "source": []
  }
 ],
 "metadata": {
  "kernelspec": {
   "display_name": "Python 3.7.12 64-bit",
   "language": "python",
   "name": "python3"
  },
  "language_info": {
   "codemirror_mode": {
    "name": "ipython",
    "version": 3
   },
   "file_extension": ".py",
   "mimetype": "text/x-python",
   "name": "python",
   "nbconvert_exporter": "python",
   "pygments_lexer": "ipython3",
   "version": "3.7.12"
  },
  "orig_nbformat": 4,
  "vscode": {
   "interpreter": {
    "hash": "d4d1e4263499bec80672ea0156c357c1ee493ec2b1c70f0acce89fc37c4a6abe"
   }
  }
 },
 "nbformat": 4,
 "nbformat_minor": 2
}
