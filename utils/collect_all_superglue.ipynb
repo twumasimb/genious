{
 "cells": [
  {
   "cell_type": "code",
   "execution_count": 1,
   "metadata": {},
   "outputs": [],
   "source": [
    "import pandas as pd\n",
    "import numpy as np\n",
    "import os\n",
    "import subprocess\n",
    "import json"
   ]
  },
  {
   "cell_type": "code",
   "execution_count": 2,
   "metadata": {},
   "outputs": [],
   "source": [
    "main_model_dir=\"/home/hrenduchinta/LM-pretraining/models/gpt2_ingenious_09_01_2023_10.22.38\""
   ]
  },
  {
   "cell_type": "code",
   "execution_count": 3,
   "metadata": {},
   "outputs": [
    {
     "name": "stdout",
     "output_type": "stream",
     "text": [
      "step-50000: [Errno 2] No such file or directory: '/home/hrenduchinta/LM-pretraining/models/gpt2_ingenious_09_01_2023_10.22.38/step_50000/superglue_run_1/runs/cb/val_metrics.json'\n",
      "step-100000: [Errno 2] No such file or directory: '/home/hrenduchinta/LM-pretraining/models/gpt2_ingenious_09_01_2023_10.22.38/step_100000/superglue_run_1/runs/cb/val_metrics.json'\n",
      "step-150000: [Errno 2] No such file or directory: '/home/hrenduchinta/LM-pretraining/models/gpt2_ingenious_09_01_2023_10.22.38/step_150000/superglue_run_1/runs/cb/val_metrics.json'\n",
      "step-200000: [Errno 2] No such file or directory: '/home/hrenduchinta/LM-pretraining/models/gpt2_ingenious_09_01_2023_10.22.38/step_200000/superglue_run_1/runs/cb/val_metrics.json'\n",
      "step-250000: [Errno 2] No such file or directory: '/home/hrenduchinta/LM-pretraining/models/gpt2_ingenious_09_01_2023_10.22.38/step_250000/superglue_run_1/runs/cb/val_metrics.json'\n"
     ]
    }
   ],
   "source": [
    "for step in range(50000, 300000, 50000):\n",
    "    model_path=f\"{main_model_dir}/step_{step}\"\n",
    "    try:\n",
    "        data=pd.DataFrame(columns=[\"cb\", \"copa\", \"wsc\", \"boolq\", \"multirc\", \"wic\"], index=[f\"superglue_run_{i}\" for i in range(1, 21)])\n",
    "        task2metric={\"boolq\":\"acc\", \"cb\": \"avg_f1\", \"copa\":\"acc\", \"multirc\":\"f1\", \"record\":\"f1\", \"wic\": \"acc\", \"wsc\": \"acc\"}\n",
    "        for run in range(1, 21):\n",
    "            if run>5:\n",
    "                tasks=[\"cb\", \"copa\", \"wsc\"]\n",
    "            else:\n",
    "                tasks=[\"cb\", \"copa\", \"wsc\", \"boolq\", \"multirc\", \"wic\"]\n",
    "            l=[]\n",
    "            for task in tasks:\n",
    "                with open(f\"{model_path}/superglue_run_{run}/runs/{task}/val_metrics.json\") as f:\n",
    "                    d=json.load(f)\n",
    "                    score=d[task][\"metrics\"][\"minor\"][task2metric[task]]\n",
    "                    l.append(round(100.0*float(score), 2))\n",
    "            if run>5:\n",
    "                l.extend([np.nan]*3)\n",
    "            data.loc[f\"superglue_run_{run}\"]=l\n",
    "        data.loc[\"average\"]=data.mean(axis=0, skipna=True)\n",
    "        data.loc[\"stddev\"]=data.std(axis=0, skipna=True)\n",
    "        data.loc[\"decrement_avg\"]=[np.nan for i in range(6)]\n",
    "        data.loc[\"maximum\"]=data.max(axis=0, skipna=True)\n",
    "        data.loc[\"decrement_max\"]=[np.nan for i in range(6)]\n",
    "        data.to_csv(f\"{model_path}/superglue_results.csv\")\n",
    "    except Exception as e:\n",
    "        print(f\"step-{step}: {str(e)}\")"
   ]
  },
  {
   "cell_type": "code",
   "execution_count": 4,
   "metadata": {},
   "outputs": [
    {
     "ename": "SyntaxError",
     "evalue": "invalid syntax (69445799.py, line 5)",
     "output_type": "error",
     "traceback": [
      "\u001b[0;36m  Cell \u001b[0;32mIn [4], line 5\u001b[0;36m\u001b[0m\n\u001b[0;31m    else:``\u001b[0m\n\u001b[0m         ^\u001b[0m\n\u001b[0;31mSyntaxError\u001b[0m\u001b[0;31m:\u001b[0m invalid syntax\n"
     ]
    }
   ],
   "source": [
    "for step in range(50000, 300000, 50000):\n",
    "    for run in range(1, 21):\n",
    "        if run>5:\n",
    "            tasks=[\"cb\", \"copa\", \"wsc\"]\n",
    "        else:``\n",
    "            tasks=[\"cb\", \"copa\", \"wsc\", \"boolq\", \"multirc\", \"wic\"]\n",
    "        for task in tasks:\n",
    "            if not os.path.isfile(f\"{main_model_dir}/step_{step}/superglue_run_{run}/runs/{task}/val_metrics.json\"):\n",
    "                print(step, run, task)"
   ]
  },
  {
   "cell_type": "code",
   "execution_count": null,
   "metadata": {},
   "outputs": [],
   "source": [
    "model_dir=main_model_dir\n",
    "os.makedirs(f\"{model_dir}/results\", exist_ok=True)\n",
    "for step in range(50000, 300000, 50000):\n",
    "    os.makedirs(f\"{model_dir}/results/step_{step}\", exist_ok=True)\n",
    "    subprocess.run(f\"cp {model_dir}/step_{step}/superglue_results.csv {model_dir}/results/step_{step}/superglue_results.csv\", shell=True)"
   ]
  },
  {
   "cell_type": "code",
   "execution_count": null,
   "metadata": {},
   "outputs": [],
   "source": []
  }
 ],
 "metadata": {
  "kernelspec": {
   "display_name": "ingenious",
   "language": "python",
   "name": "python3"
  },
  "language_info": {
   "codemirror_mode": {
    "name": "ipython",
    "version": 3
   },
   "file_extension": ".py",
   "mimetype": "text/x-python",
   "name": "python",
   "nbconvert_exporter": "python",
   "pygments_lexer": "ipython3",
   "version": "3.7.12 | packaged by conda-forge | (default, Oct 26 2021, 06:08:21) \n[GCC 9.4.0]"
  },
  "orig_nbformat": 4,
  "vscode": {
   "interpreter": {
    "hash": "330e453a0b5d4a31de1248b81498e4f7229811b6cdc584e51aea2376965a21af"
   }
  }
 },
 "nbformat": 4,
 "nbformat_minor": 2
}
