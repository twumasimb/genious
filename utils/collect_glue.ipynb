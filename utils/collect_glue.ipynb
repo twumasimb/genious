{
 "cells": [
  {
   "cell_type": "code",
   "execution_count": 1,
   "metadata": {},
   "outputs": [],
   "source": [
    "import pandas as pd\n",
    "import json"
   ]
  },
  {
   "cell_type": "code",
   "execution_count": 2,
   "metadata": {},
   "outputs": [
    {
     "ename": "FileNotFoundError",
     "evalue": "[Errno 2] No such file or directory: '/home/hrenduchinta/LM-pretraining/models/fl_bert_23_11_2022_06:34:28/step_250000glue_run_1/cola.log'",
     "output_type": "error",
     "traceback": [
      "\u001b[0;31m---------------------------------------------------------------------------\u001b[0m",
      "\u001b[0;31mFileNotFoundError\u001b[0m                         Traceback (most recent call last)",
      "Cell \u001b[0;32mIn [2], line 7\u001b[0m\n\u001b[1;32m      5\u001b[0m l\u001b[39m=\u001b[39m[]\n\u001b[1;32m      6\u001b[0m \u001b[39mfor\u001b[39;00m task \u001b[39min\u001b[39;00m tasks:\n\u001b[0;32m----> 7\u001b[0m     \u001b[39mwith\u001b[39;00m \u001b[39mopen\u001b[39;49m(folder\u001b[39m+\u001b[39;49m\u001b[39mf\u001b[39;49m\u001b[39m\"\u001b[39;49m\u001b[39mglue_run_\u001b[39;49m\u001b[39m{\u001b[39;49;00mrun\u001b[39m}\u001b[39;49;00m\u001b[39m/\u001b[39;49m\u001b[39m\"\u001b[39;49m\u001b[39m+\u001b[39;49mtask\u001b[39m+\u001b[39;49m\u001b[39m\"\u001b[39;49m\u001b[39m.log\u001b[39;49m\u001b[39m\"\u001b[39;49m, \u001b[39m\"\u001b[39;49m\u001b[39mr\u001b[39;49m\u001b[39m\"\u001b[39;49m) \u001b[39mas\u001b[39;00m f:\n\u001b[1;32m      8\u001b[0m         lines\u001b[39m=\u001b[39mf\u001b[39m.\u001b[39mreadlines()\n\u001b[1;32m      9\u001b[0m         \u001b[39mif\u001b[39;00m task\u001b[39m==\u001b[39m\u001b[39m\"\u001b[39m\u001b[39mmnli\u001b[39m\u001b[39m\"\u001b[39m:\n",
      "\u001b[0;31mFileNotFoundError\u001b[0m: [Errno 2] No such file or directory: '/home/hrenduchinta/LM-pretraining/models/fl_bert_23_11_2022_06:34:28/step_250000glue_run_1/cola.log'"
     ]
    }
   ],
   "source": [
    "folder=\"/home/hrenduchinta/LM-pretraining/models/fl_bert_23_11_2022_06:34:28/step_250000\"\n",
    "tasks=[\"cola\", \"sst2\", \"mrpc\", \"stsb\", \"qqp\", \"mnli\", \"qnli\", \"rte\"]\n",
    "data=pd.DataFrame(columns=[\"cola\", \"sst2\", \"mrpc\", \"stsb\", \"qqp\", \"mnli-m\", \"mnli-mm\", \"qnli\", \"rte\"], index=['glue_run1', 'glue_run2', 'glue_run3'])\n",
    "for run in range(1,4):\n",
    "    l=[]\n",
    "    for task in tasks:\n",
    "        with open(folder+f\"glue_run_{run}/\"+task+\".log\", \"r\") as f:\n",
    "            lines=f.readlines()\n",
    "            if task==\"mnli\":\n",
    "                l.append(100*float(lines[-2].split()[-1].rstrip().rstrip('}')))\n",
    "            l.append(100*float(lines[-1].split()[-1].rstrip().rstrip('}')))\n",
    "    data.loc[f\"glue_run{run}\"]=l\n",
    "data.loc[\"average\"]=data.mean(axis=0)\n",
    "data[\"average\"]=data.mean(axis=1)\n",
    "data=data.apply(lambda x: [round(f, 2) for f in x])\n",
    "data.to_csv(folder+\"glue_results.csv\")\n",
    "data"
   ]
  },
  {
   "cell_type": "code",
   "execution_count": 5,
   "metadata": {},
   "outputs": [
    {
     "data": {
      "text/html": [
       "<div>\n",
       "<style scoped>\n",
       "    .dataframe tbody tr th:only-of-type {\n",
       "        vertical-align: middle;\n",
       "    }\n",
       "\n",
       "    .dataframe tbody tr th {\n",
       "        vertical-align: top;\n",
       "    }\n",
       "\n",
       "    .dataframe thead th {\n",
       "        text-align: right;\n",
       "    }\n",
       "</style>\n",
       "<table border=\"1\" class=\"dataframe\">\n",
       "  <thead>\n",
       "    <tr style=\"text-align: right;\">\n",
       "      <th></th>\n",
       "      <th>boolq</th>\n",
       "      <th>cb</th>\n",
       "      <th>copa</th>\n",
       "      <th>multirc</th>\n",
       "      <th>wic</th>\n",
       "      <th>wsc</th>\n",
       "      <th>average</th>\n",
       "    </tr>\n",
       "  </thead>\n",
       "  <tbody>\n",
       "    <tr>\n",
       "      <th>superglue_run1</th>\n",
       "      <td>67.55</td>\n",
       "      <td>49.84</td>\n",
       "      <td>50.00</td>\n",
       "      <td>61.03</td>\n",
       "      <td>64.58</td>\n",
       "      <td>59.62</td>\n",
       "      <td>58.77</td>\n",
       "    </tr>\n",
       "    <tr>\n",
       "      <th>superglue_run2</th>\n",
       "      <td>68.41</td>\n",
       "      <td>47.23</td>\n",
       "      <td>61.00</td>\n",
       "      <td>60.81</td>\n",
       "      <td>65.52</td>\n",
       "      <td>54.81</td>\n",
       "      <td>59.63</td>\n",
       "    </tr>\n",
       "    <tr>\n",
       "      <th>superglue_run3</th>\n",
       "      <td>67.92</td>\n",
       "      <td>48.56</td>\n",
       "      <td>55.00</td>\n",
       "      <td>61.19</td>\n",
       "      <td>64.11</td>\n",
       "      <td>60.58</td>\n",
       "      <td>59.56</td>\n",
       "    </tr>\n",
       "    <tr>\n",
       "      <th>superglue_run4</th>\n",
       "      <td>68.81</td>\n",
       "      <td>47.27</td>\n",
       "      <td>53.00</td>\n",
       "      <td>61.63</td>\n",
       "      <td>65.20</td>\n",
       "      <td>50.96</td>\n",
       "      <td>57.81</td>\n",
       "    </tr>\n",
       "    <tr>\n",
       "      <th>superglue_run5</th>\n",
       "      <td>67.95</td>\n",
       "      <td>47.27</td>\n",
       "      <td>59.00</td>\n",
       "      <td>62.10</td>\n",
       "      <td>64.42</td>\n",
       "      <td>46.15</td>\n",
       "      <td>57.82</td>\n",
       "    </tr>\n",
       "    <tr>\n",
       "      <th>average</th>\n",
       "      <td>68.13</td>\n",
       "      <td>48.03</td>\n",
       "      <td>55.60</td>\n",
       "      <td>61.35</td>\n",
       "      <td>64.76</td>\n",
       "      <td>54.42</td>\n",
       "      <td>58.72</td>\n",
       "    </tr>\n",
       "    <tr>\n",
       "      <th>stdev</th>\n",
       "      <td>0.49</td>\n",
       "      <td>1.16</td>\n",
       "      <td>4.45</td>\n",
       "      <td>0.52</td>\n",
       "      <td>0.58</td>\n",
       "      <td>6.03</td>\n",
       "      <td>2.20</td>\n",
       "    </tr>\n",
       "  </tbody>\n",
       "</table>\n",
       "</div>"
      ],
      "text/plain": [
       "                boolq     cb   copa  multirc    wic    wsc  average\n",
       "superglue_run1  67.55  49.84  50.00    61.03  64.58  59.62    58.77\n",
       "superglue_run2  68.41  47.23  61.00    60.81  65.52  54.81    59.63\n",
       "superglue_run3  67.92  48.56  55.00    61.19  64.11  60.58    59.56\n",
       "superglue_run4  68.81  47.27  53.00    61.63  65.20  50.96    57.81\n",
       "superglue_run5  67.95  47.27  59.00    62.10  64.42  46.15    57.82\n",
       "average         68.13  48.03  55.60    61.35  64.76  54.42    58.72\n",
       "stdev            0.49   1.16   4.45     0.52   0.58   6.03     2.20"
      ]
     },
     "execution_count": 5,
     "metadata": {},
     "output_type": "execute_result"
    }
   ],
   "source": [
    "folder=\"/home/sumbhati/ingenious/LM-pretraining/models/fl_bert_30_08_2022_17:12:40/\"\n",
    "tasks=[\"boolq\", \"cb\", \"copa\", \"multirc\", \"wic\", \"wsc\"]\n",
    "metrics=[\"acc\", \"avg_f1\", \"acc\", \"f1\", \"acc\", \"acc\"]\n",
    "data=pd.DataFrame(columns=[\"boolq\", \"cb\", \"copa\", \"multirc\", \"wic\", \"wsc\"], index=['superglue_run1', 'superglue_run2', 'superglue_run3'])\n",
    "for run in range(1,6):\n",
    "    l=[]\n",
    "    for k, task in enumerate(tasks):\n",
    "        with open(folder+f\"superglue_run_{run}/runs/\"+task+\"/val_metrics.json\", \"r\") as f:\n",
    "            d=json.load(f)\n",
    "            l.append(100.0*float(d[task][\"metrics\"][\"minor\"][metrics[k]]))\n",
    "    data.loc[f\"superglue_run{run}\"]=l\n",
    "data.loc[\"average\"]=data[:5].mean(axis=0)\n",
    "data.loc[\"stdev\"]=data[:5].std(axis=0)\n",
    "data[\"average\"]=data.mean(axis=1)\n",
    "data=data.apply(lambda x: [round(f, 2) for f in x])\n",
    "data.to_csv(folder+\"superglue_results.csv\")\n",
    "data"
   ]
  },
  {
   "cell_type": "code",
   "execution_count": null,
   "metadata": {},
   "outputs": [],
   "source": []
  }
 ],
 "metadata": {
  "kernelspec": {
   "display_name": "Python 3.7.12 ('ingenious')",
   "language": "python",
   "name": "python3"
  },
  "language_info": {
   "codemirror_mode": {
    "name": "ipython",
    "version": 3
   },
   "file_extension": ".py",
   "mimetype": "text/x-python",
   "name": "python",
   "nbconvert_exporter": "python",
   "pygments_lexer": "ipython3",
   "version": "3.9.13"
  },
  "orig_nbformat": 4,
  "vscode": {
   "interpreter": {
    "hash": "330e453a0b5d4a31de1248b81498e4f7229811b6cdc584e51aea2376965a21af"
   }
  }
 },
 "nbformat": 4,
 "nbformat_minor": 2
}
