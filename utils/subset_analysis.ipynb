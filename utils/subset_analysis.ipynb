{
 "cells": [
  {
   "cell_type": "code",
   "execution_count": 1,
   "metadata": {},
   "outputs": [
    {
     "name": "stderr",
     "output_type": "stream",
     "text": [
      "/home/hrenduchinta/LM-pretraining/ingenious-env/lib/python3.7/site-packages/tqdm/auto.py:22: TqdmWarning: IProgress not found. Please update jupyter and ipywidgets. See https://ipywidgets.readthedocs.io/en/stable/user_install.html\n",
      "  from .autonotebook import tqdm as notebook_tqdm\n"
     ]
    }
   ],
   "source": [
    "import numpy as np\n",
    "import torch\n",
    "from datasets import load_from_disk\n",
    "from transformers import BertTokenizerFast"
   ]
  },
  {
   "cell_type": "code",
   "execution_count": 2,
   "metadata": {},
   "outputs": [],
   "source": [
    "dataset=load_from_disk(\"bert_dataset_prepared\")\n",
    "tokenizer=BertTokenizerFast.from_pretrained(\"bert-base-uncased\")"
   ]
  },
  {
   "cell_type": "code",
   "execution_count": 3,
   "metadata": {},
   "outputs": [],
   "source": [
    "X=np.load(\"representations.npy\")"
   ]
  },
  {
   "cell_type": "code",
   "execution_count": 4,
   "metadata": {},
   "outputs": [],
   "source": [
    "folder=\"/home/hrenduchinta/LM-pretraining/subsets/fl_bert_12_09_2022_15:35:34/\"\n",
    "subsets=[]\n",
    "idx=[81140]\n",
    "idx.extend(list(range(100000, 250000, 25000)))\n",
    "for i in idx:\n",
    "    subsets.append(set(torch.load(folder+f\"subset_indices_after_step_{i}.pt\").tolist()))"
   ]
  },
  {
   "cell_type": "code",
   "execution_count": 5,
   "metadata": {},
   "outputs": [],
   "source": [
    "s=subsets[0]\n",
    "for i in range(1, len(subsets)):\n",
    "    s=s.union(subsets[i])"
   ]
  },
  {
   "cell_type": "code",
   "execution_count": 6,
   "metadata": {},
   "outputs": [],
   "source": [
    "not_selected_at_all=[i for i in range(41543418) if i not in s]"
   ]
  },
  {
   "cell_type": "code",
   "execution_count": 7,
   "metadata": {},
   "outputs": [],
   "source": [
    "idx=list(subsets[0])[43764]"
   ]
  },
  {
   "cell_type": "code",
   "execution_count": 8,
   "metadata": {},
   "outputs": [
    {
     "name": "stdout",
     "output_type": "stream",
     "text": [
      "[CLS] pryor ( d - ar ) opposed the bill. pryor is up for election in 2014 and is considered \" the senate's most vulnerable incumbent. \" senator tom carper ( d - de ) preferred legislation that would have a greater chance of becoming law, such as an increase to only $ 9 an hour [SEP]. 1011 ) was the son of robert i, count of lomme. he became count of namur in 998. he married ermengarde, daughter of charles, duke of lower lorraine, and had the following sons : robert ii, count of namur died without issue and was succeeded by [SEP]\n"
     ]
    }
   ],
   "source": [
    "print(tokenizer.decode(dataset[\"train\"][idx][\"input_ids\"]))"
   ]
  },
  {
   "cell_type": "code",
   "execution_count": 9,
   "metadata": {},
   "outputs": [],
   "source": [
    "sims=(np.matmul(X, X[idx].reshape((-1,1)))).reshape((-1,))\n",
    "indices=np.argsort(-sims).tolist()"
   ]
  },
  {
   "cell_type": "code",
   "execution_count": 10,
   "metadata": {},
   "outputs": [
    {
     "name": "stdout",
     "output_type": "stream",
     "text": [
      "23312444 [CLS] - nv ) said that the bill \" will help countless americans \" and \" bring american families and the economy a fair shot. \" senator ron wyden ( d - or ), the senate finance committee chairman, said that his \" first choice \" would be to pass tax reform immediately, but that \" the [SEP] to come to the start for his tale proper. despite his disclaimers he uses many rhetorical flourishes. presumably the slow pace is the reason the franklin interrupts him. the franklin is doubtless poking gentle fun with his tale of the naive squire aurelias. imagery the springtime imagery from the [SEP]\n",
      "7013322 [CLS] move to get the state out of the common core standards. the bill narrowly failed. becker was the main force courting support for the bill, which governor jack dalrymple, superintendent of public instruction kirsten baesler, and republican party leadership opposed. becker supported a bill which would have brought the state income tax [SEP] december 1993 and 31 march 1994, it was part of an exhibition of colonial art in harderwijk. in 2014, it was on display in room 1. 17 of the rijksmuseum. diponegoro's capture is the subject of another painting, the arrest of pangeran dipone [SEP]\n",
      "12327008 [CLS] top level of benefits to those who stay for six years. mccain also argued that his version would involve less new bureaucracy than webb's bill. a late may vote on the webb bill passed 75 – 22, with mccain missing the vote due to being away from washington. in early june 2008, the white house signaled [SEP] of st andrews and the bishops held lands lying to the east of the elliot water. bishop roger de beaumont granted the church to the new abbey around the time of its foundation, but retained the lands in arbirlot for the diocese. the parish suffered from the effects of the first war of scottish independence in the [SEP]\n",
      "38476 [CLS] to develop their own energy resources. western states have a much higher percentage of federal land. rep. jared polis ( d - co ) opposed the bill because it would exempt the states that had weak or minimal state regulations about fracking from more restrictive federal regulations. president obama opposed the bill and threatened to veto it [SEP], and sivsmm viruses, and that bushmeat practice provides the most plausible cause of cross - species transfer to humans. however, some loose ends remain. it is not yet explained why only four hiv groups ( hiv - 1 groups m and o, and hiv - 2 groups a and b ) spread [SEP]\n",
      "18062068 [CLS] any increase in the minimum wage and would rather focus on defeating the referendum than passing a more moderate proposal. house majority leader jeff mccabe also indicated a more moderate proposal would face difficulty in the house, stating that \" we had this opportunity last year \" and that it was now too late for a compromise. one attempt [SEP] ) was an english novelist, best known for her 1798 gothic novel, the orphan of the rhine, which was listed as one of the seven \" horrid novels \" by jane austen in her novel northanger abbey. publications the orphan of the rhine, 1798 who's the murderer?, 1802 the bristol [SEP]\n",
      "570866 [CLS] - led u. s. house of representatives passed the pain - capable unborn child protection act. speaker of the house john boehner said the bill was in response to gosnell's convictions. the legislation was viewed as mostly symbolic, as it stood little chance of being approved by the democratic - led [SEP] tweets per minute on twitter, cyrus'performance resulted in a gain of over 213, 000 twitter followers, 226, 000 likes on facebook, and 90, 000 downloads of her new single, \" wrecking ball \", within days of the controversial performance. this amounted to a total 112 % increase in [SEP]\n",
      "28496541 [CLS] go to valuable transportation projects. opposition californians against proposition 69 argue that the measure doesn't go far enough to protect other transportation fees, such as the vehicle weight fee. california republicans propelled the \" no on prop 69 \" movement. california senator john moorlach ( republican - 37th senate district ) and assemblyman [SEP] opposition contributed to bibescu's suspension of the assembly for two years. power then shifted toward the princely camarilla. as noted by poenaru, vulpea's own accumulation of offices was harming wallachian education : the assembly's judgments caused resentment among the lesser boyars [SEP]\n",
      "9468073 [CLS] the united states at risk of an economic crisis like the one found in greece. todd rokita ( r - in ) supported the spending cuts and accused the democrats of stealing from future generations to pay for their deficit spending. barbara lee ( d - ca ) criticized the bill, renaming it from \" path to prosperity [SEP]ger theodore sturgeon ( 1918 – 1985 ) – science fiction author ; born on staten island henry david thoreau ( 1817 – 1862 ) – essayist, philosopher, naturalist ; spent his longest time away from concord, massachusetts on staten island in the 1840s amy vanderbilt ( 1908 – 1974 ) – author of the best [SEP]\n",
      "3333317 [CLS], but senators jeff bingaman ( d - nm ) and pete domenici ( r - nm ) agreed to scale back the proposal in conference committee due to complaints from farmers and the airline industry. proponents claimed that the extension would save \" the equivalent of \" of oil per day, but this figure was based on [SEP] hoseda - hard is a rural locality in zapolyarny district, nenets autonomous okrug, russia. its center is the village ( selo ) of kharuta. population : transportation khoseda - khardsky is served by the kharuta airport. climate khoseda - k [SEP]\n",
      "173500 [CLS] consumers'electricity costs. in march 2015, a state senate committee voted on the bill. the only senator to vote \" no \" was republican kyle mccarter of lebanon. in an interview with the madison county record, mccarter said, \" if we shift to 35 percent the cost is going to be outrageous [SEP] ninh and cambodia. kinh do is diversified into several fields of interest, listed along with significant subsidiary companies : food, primarily confections and soft drinks, are manufactured and distributed by the following : kinh do corporation binh duong kinh do corporation north kinh do food joint stock company ki [SEP]\n",
      "11023010 [CLS] day that it might be perceived as benefitting the wealthy. trump and kudlow both announced a \" phase two \" of tax reform, suggesting a new bill that included a lower capital gains rate. however, prospects for a follow - on tax bill dimmed after the democratic party took the house of representatives in the 2018 [SEP] of whiteford in the county of cornwall, was a title in the baronetage of great britain. it was created on 28 july 1791 for john call, member of parliament for callington from 1784 to 1801. he was succeeded by his son william, the second baronet. he served as high sheriff of cornwall. [SEP]\n",
      "23023467 [CLS]curred with republicans that the no child left behind act needed to be reformed, they thought that the student success act loosen the standards too much. rep. jared polis ( d - co ) argued against the bill, because if the student success act becomes law, \" state's wouldn't even be required to set performance targets based on student growth, proficiency or graduation rates... effectively, [SEP] for each bit of m to the right of the most significant bit do if the bit is 1 then x : = ( x × y − b ) mod n y : = ( y ^ 2 − 2 ) mod n [SEP]\n",
      "28301986 [CLS] general election unopposed when legg decided to run in an adjacent district and his only democratic opponent, a college student, dropped out. while serving in the legislature, simpson was given control by florida senate president don gaetz over the reform of the florida retirement system, and announced that he would either accept the plan proposed by [SEP] actually involved in the project. the third author was, instead, skip williams and is properly credited on the book's title page and on the credits page. reception martin drury of rpgamer wrote that the adventure \" [... ] just does not live up to expectations. [... ] [SEP]\n",
      "21726066 [CLS] true conservative choice \" since the republican nominee, governor rounds, was too moderate. his top priorities included repealing obamacare and reducing the size of the government. he stated at the time that if elected he would caucus with the republican party in the senate. personal howie and his wife, connie, are lifelong residents of [SEP] and compensation for those who were forcibly vaccinated. in the national council, she had the respect of her colleagues for being a politician who was not tainted by scandal. direction – social democracy mp dusan jarjabek called her extremely modest and easy to communicate with, while julius brock of the christian democratic movement [SEP]\n",
      "4018979 [CLS] an issue that would come up in his campaign for mayor in 1983. washington's major congressional accomplishment involved legislation to extend the voting rights act, legislation that opponents had argued was only necessary in an emergency. others, including congressman henry hyde, had submitted amendments designed to seriously weaken the power of the voting rights act. [SEP] known that local tv footage later showed the twisted and charred remains of the motorcycle, in which the bomb was planted upon, as well as the debris from the nearby shops damaged in this bomb explosion. a prominent sufi scholar later accused the government of not doing enough to prevent his community from coming under such terrorist - related [SEP]\n",
      "20267758 [CLS] an identical bipartisan companion bill in the house of representatives with republican cosponsor, representative margaret scafati roukema ( r - nj ). meanwhile, in december 1996 first lady hillary rodham clinton examined several possible initiatives and decided expanding health care insurance to children who had none was the one to advance [SEP] for turkmenian kulans, bactrian camels and shetland pony was constructed in the forested part of the zoo and the building of a breeding facility for heptner's markhor and barbary sheep had begun. the second reduction was in 2003, when construction for the d2 motorway [SEP]\n",
      "24458940 [CLS] general election to republican nominee jon greiner, who had defeated senator thomas in the republican primary. 2014 sponsored legislation pivotal bills in 2014, the utah legislature shot down s. b. 12 bill to raise the legal smoking age from 18 to 21. had the bill passed, utah would have been the first state to [SEP] flying at medium altitude over hama eastern countryside, possibly delivering the bomb seen hitting the ground in the same video. until february 2014, syrian mig - 25s were not seen, perhaps due to the type of war, different from the role of the mig - 25 and possibly due to initial technical difficulties in keeping [SEP]\n",
      "8359527 [CLS] drop out ; both represented different views and both already faced off in a 2002 special election for hawaii's 2nd congressional district, which case won. the dccc chairman congressman chris van hollen said he was counting on abercrombie to help keep the seat democratic ; indicating that endorsements would be used to show [SEP]riksha ( social business plan ), fin league ( finance ) and gordian knot ( cross functional ). the event ends with a live concert, livewire, in which popular singers and bands like euphoria, mohit chauhan, indian ocean and parikrama have performed. athar [SEP]\n"
     ]
    }
   ],
   "source": [
    "for i, ind in enumerate(indices):\n",
    "    if i>100:\n",
    "        break\n",
    "    if ind in not_selected_at_all:\n",
    "        print(ind, tokenizer.decode(dataset[\"train\"][ind][\"input_ids\"]))"
   ]
  },
  {
   "cell_type": "code",
   "execution_count": 118,
   "metadata": {},
   "outputs": [],
   "source": [
    "idx=33631854"
   ]
  },
  {
   "cell_type": "code",
   "execution_count": 119,
   "metadata": {},
   "outputs": [
    {
     "name": "stdout",
     "output_type": "stream",
     "text": [
      "[CLS] killed loads of welshmen. uriens son er, wots his name? owain, i said, stories of battle bringing me back to the conversation. owain had succeeded his father and was now king in rheged. wallace beamed at me like i had won a prize. thats the chap. anyway, wots his name is trying to get the welsh together again into an army after most of them got killed a few years back up north [SEP] ` ` normal procedure, actually. they should have brought me in before now.'' ` ` why you? i don't understand.'' [SEP]\n"
     ]
    }
   ],
   "source": [
    "print(tokenizer.decode(dataset[\"train\"][idx][\"input_ids\"]))"
   ]
  },
  {
   "cell_type": "code",
   "execution_count": 120,
   "metadata": {},
   "outputs": [],
   "source": [
    "sims=(np.matmul(X, X[idx].reshape((-1,1)))).reshape((-1,))\n",
    "indices=np.argsort(-sims).tolist()"
   ]
  },
  {
   "cell_type": "code",
   "execution_count": 121,
   "metadata": {},
   "outputs": [
    {
     "name": "stdout",
     "output_type": "stream",
     "text": [
      "[CLS] small fire is going again and were finishing the fox. i swallow hard and choke out a question. rodricks raiders? hmm? yeah. we used to scout for themme and cabal. thats where we met fin too. cove caught up with rodrick and hanged him, i hear. but it was easy living for a span. [SEP] ` ` drake!'' i blinked, unable to keep my eyes open for longer than a second or two before i had to close them again. ` ` fuck!'' i exclaimed, raising a hand to touch my throbbing jaw. ` ` what happened?'' [SEP]\n",
      "[CLS] had an irish accent, which was odd. walwain thought that cunedag and his sons had driven most of the irish settlers whod lived in this land. but the gaelic folk were old allies of his folk and had often raided the southlands at their sides in the old days. he felt safer than if he had met a briton. besides, this was only a girl. i am walwain ipe leudon, lately king of the walweithan picts, he declared blandly. smiling a little, he added ; fallen on hard times, as you can see [SEP] spud asked. [SEP]\n",
      "[CLS] no doubt the substance the men on ladders were plastering all over the ship. he smiled to realize it solved another mystery too, that of the llamas missing hair. turning to sarah, he saw her eyes were wide. shes called the lady grace, chris said. she sank in a storm back in the seventeen - hundreds. barney is... well, hes bankrolling the rebuilding. but like i said, its real secret. cant [SEP] ` ` hey, jellybean, i'm sorry you're mad at me today. maybe tomorrow will be a better day.'' [SEP]\n",
      "[CLS] thought that cunedag and his sons had driven most of the irish settlers whod lived in this land. but the gaelic folk were old allies of his folk and had often raided the southlands at their sides in the old days. he felt safer than if he had met a briton. besides, this was only a girl. i am walwain ipe leudon, lately king of the walwei [SEP] i allowed my mouth to linger, to graze her forehead as i pulled back. her hand tightened on my waist and then began to move, sliding upward toward my chest and settling right above my heart. [SEP]\n",
      "[CLS] buried over a thousand acked corpses. * * * the story teller caught his breath. a prisoner asked, why had the ard ri miscalculated so badly? thats just it. the king had done good, but still we were badly bloodied by the pigs and their iron swords. remember, thered been no serious fightin between spore and men for half a lifetime. we were thinkin that the wars were finally over. king giforing had sent the thaumaturgist to bretwalda to seal a treaty with king [SEP] jack had a wealthy family and he wanted no part of it. [SEP]\n",
      "[CLS] ruler loves the king so much that in return he surrendered the norman castle his father captured seven years ago and sent him a contingent of archers to fight for him in the rebellion. by the way, thats the castle im getting. rhuddlan. god alone knows what kind of state its in after being in [SEP] kid, i've had a bitter, stark feeling, and it's not getting better. during the war, it didn't matter as much. none of us could do as we wished. it matters now. gas streaks the world red behind us, blood - tears to mark the loss of [SEP]\n",
      "[CLS] he ended up the palace stablemaster, and hired me on as his assistant when i mustered out. he sipped his ale. cant complain, though serving nobles is a hundred times worse than serving officers. at least officers got discipline. nobles are all like hummingbirdsthis! no, that! no, do it this way! no, wait, i cant find my arse with two hands! he guffawed, and liam joined in. what about you? i thought your dad had taken you out back east [SEP] ` ` they're spirit guardians for changelings. probably cousins to your angels.'' [SEP]\n",
      "[CLS] the thread of a conversation hed begun the friday before, relating the story of lord edward fitzgerald and the rebellion that failed. weve had some grand talks about ireland, and her heroes, havent we? young ireland. the bold fenian men, mackie said. mr. osullivan was fond of reading, not dime novels but real history books about ireland and america [SEP] he rolls over with the chains clinking and singeing at his arms. he winces and repositions the chains. ` ` you saw the day we were taken away.'' ` ` how do you know?'' [SEP]\n",
      "[CLS] down the bloody avenue tooting war horns and taking on an army of dark knights, on the off chance hed get his name in some ballad, kervin said. no, i think sugox smiled on us when he gave tinkek the gout last winter. if only it was contagious then id not have come on this fool mission for those bloody tree - huggers, ograk said. me and iogar were offered a job on a ship bound for south aquatonia. ive never had a girl from the [SEP]'your stitches seem to be holding up nicely, by the way. [SEP]\n",
      "[CLS] with the seminoles. their chiefs got a better head for business than donald trump. hes made that tribe so much money its a pleasure to watch how they have pulled themselves up and now the white man tourist is learning something from the indian while he hands over his money. pat chuckled. he leaned towards chase confidentially. you know, one time he brought another indian with him. real hostile, stone - faced guy, name of willie hatchee [SEP] cara swam toward the ladder. ` ` the police picked me up today,'' cameron growled, smile vanishing as he watched her with eyes that didn't blink. [SEP]\n",
      "[CLS] if it wasnt done on your order, it was still done under your roof. tell us about this boy. the words spilled forth in a sputtering stream hehes called sorgo, masters. a street - boy. the hireguard took him in a few years ago. they gave me his work - chit for a year as repayment for a debt. where is he now? hai hai asked. ii dont know. [SEP] are you talking about sheriff caleb? asked susan. yeah, i said. hes definitely not married, she said. [SEP]\n",
      "[CLS] i don't think those are the friends we want to have. they are military from causperias, the greatest city in galdarath, next to the capital city of ravendale. this surely will not make our travels into the human city any easier, said locmire. well, if dis hur wench haddn went all crazy and pult one of dem wizard'n spells, we mighta been able to talked are way out of dis mess, red said as he looked over at the unconscious mage. [SEP] lexi wished that just once she had been brave enough to talk to him. [SEP]\n",
      "[CLS] latin, means wintry i checked it up - and hibs, or hibernian fc, the scottish football club based in leith was supposedly born out of the first ever game, played between the natives of the area and a team of hadrians soldiers! what about leap years? i asked. the ancient scots didnt bother with leap years elliot before march the tenth see? hmm anyway, where were we? he asked after a moments [SEP] she leaned her weight, pressing down on him. ` ` seichan...'' she stared down at him, muscles straining, eyes fiery, as if in pain. [SEP]\n",
      "[CLS] but i thought the mahdi died. they got themselves a new one whos replaced him. theyve taken back parts of sudan. they say, submit to us or die. he winked. guess you cant blame the natives for submitting. the alternative is none too appealing. by january 1894 all the paperwork had been approved to put him back in uniform. [SEP] mai delivered a girl a week before he left for egypt. mother, daughter, and auntie all cried as benjamin said goodbye. do take care, dear. aunt bessie wiped her tears. you always were my favorite nephew, bennie. we miss you. [SEP]\n",
      "[CLS] waste. i thought you said you were recruited after bannockburn, what were you doing at culloden? i went with tiberius to recruit sean for the hunt, macduff said, providing some history on another of pierces hounds. he thought it would be easier with a fellow countryman present. we found sean in edinburgh, full of rebellious [SEP] and thank you again for helping me out here.'' ` ` there's no way i would let you do this on your own. i'm just as responsible as you are, and i also feel horribly guilty that you took them out of the stadium. [SEP]\n",
      "[CLS] great warlord himself. ten score he killed before they killed him, but die he did, pierced by many blades and arrows. a groan broke out across the barn as we took in what he had just said. firebrand, the great anglo - saxon warlord who had kept the welsh on the back foot for many years, was dead. the lands he had conquered and occupied, lilla told us, had now risen up in rebellion. bernician lords vied for power [SEP] for one brief second i saw the hurt in her eyes, but it was gone so fast i wondered if it was even there in the first place. [SEP]\n",
      "[CLS] ive been told, replied alex who was already regaining his breath. i owe ye a life, alex, said the longhunter. you lost your horses and supplies, said alex, slightly embarrassed by the longhunters statement. they can be replaced, but ye cant replace a life. who were those warriors anyway? theyre part of an iroquois band that lives northwest of fort cumberland. its unusual for them to roam this far to the east [SEP] her sex clenched around his fingers. oh, but this was going to be fun. cara brought her hands between them. pushed against his chest. his lips tore from hers. [SEP]\n",
      "[CLS] a new oneand this may be the last good day of the year for riding, he said. the guy seemed nervous, running on about what kind of bikes they had and all. my partners in the bathroom, he added, but we both wan na know where the broads are. mull was explaining things when the guys partner, carrying a similar jacket over his shoulder, stepped into the kitchen. and that was the weird part. the partner was mulls own son, johnny, whod been a tac officer in the fifth district the last mull [SEP] she prayed nobody ever guessed how much each step cost her. [SEP]\n",
      "[CLS] kill him? she murmured. but why? a year or two ago, back when he married that flaxen - haired saxon witch, youd have been hailed a hero throughout britannia if you did that. but now hes only king of powys. he had my father killed, thirty years ago, the pict murmured. he will die for it. his face was troubled. furthermore, he called in the saxon auxiliaries who banished me from my kingdom. your kingdom? if julillas eyes had been wide before, now they were almost bulging. who are you? [SEP] walwain, he replied. [SEP]\n",
      "[CLS] have time to out run the water, but we may have time to out ride it! confused, jake looked over at abraham, sir? abraham narrowed his eyes. folks took us white water rafting on the colorado river when we were freshman. i stayed with po exploring the canyon. raymond broke his arm and nearly drowned. this should be good. that is, if we dont die of course. oh were gon na die, jake barked. and you know death by drowning isn't [SEP] well, maybe the chosen keep piranhas in that lake. least that'll be close to making number seven. [SEP]\n",
      "[CLS] he didnt believe dugin was capable of mercy. to be honest i dont remember peter faltered. i guess i promised him to think over the noble mission of callirrhoe. dugin tried to persuade me that the humanity needs a leader. sure, and this leader is dugin. this family is the best in the whole solar system, alexander grinned. arthur and pasha giggled unanimously. i have to admit ivans very [SEP] ` ` let me walk you to your room,'' logan offered in a helpful voice. ` ` you, me, and the gypsy girl could have our own bonfire tonight.'' [SEP]\n",
      "[CLS] their son, is... was... my first friend. there were never too many children on itowa, but we had so much freedom. sadness shadowed his words. hes been missing for almost a year now. we were supposed to go fishing, but he never showed. the frayres are one of the oldest magical lines in first world. theyre descended from the royal house. he cleared his throat. disappearances are common, but sam hes intelligent and [SEP] without killing. never lowering her gaze from his face, nandiuml ; x finished a twisting shark and placed it by the dragon creature. [SEP]\n",
      "[CLS] yer bein at young christophers side throughout me trial. an young billy may have mentioned a word or two about an angel hed met. hornblossom winked. sarah blushed. he went on. anyway, young lad an lassie. its time fer ye to be getting the tour. the captain began the tour on the main deck, pointing out areas theyd left the same from the original ship, and other places where theyd opted to make improvements. he was especially proud of the gargoyle - like [SEP] whatever the creature was, it was designed to strike fear into whoever it was that saw it. [SEP]\n",
      "[CLS] things into a bundle and get ready to leave with us. rod turned to rulon. ill leave clay to help you get things together. hes a handy youngun, for his age. marie wagged her finger at her father. pa, dont let clay hear you talking like that. hes done more than his share of the work since carl took off to ride with mosby. then when james got drafted, well, he was the man on the place, and hes mighty proud of the job he done. rod laughed and tipped his [SEP] they shrieked again and clasped their arms around each other, spinning. [SEP]\n",
      "[CLS] wasnt he already king? he was king of northumbria, not of britain, peter explained. there were surrounding kings in the countryside at the time king leodegrance, king ban, king so wait, they were like provinces then? pretty much, said peter. all the kings wanted to rule the whole country, of [SEP] so, that was why he went looking for excalibur. a fortnight later, though, uthers body turned up on the edge of the forest, mauled, along with those of two of the knights. the rest of the knights were never seen or heard from again. [SEP]\n",
      "[CLS] the bruce into battle against the english, macduff recounted, his highland burr becoming more pronounced. we won the day and gained our independence. for a time. what does that mean? pierce asked, confused by the small chuckle uttered by macduff. a few centuries later i found myself back on the battle field for scottish independence. it was at culloden for the 46 rising with bonnie prince charlie. what a waste. i thought you said you were recruited after bannockburn, [SEP] i went with tiberius to recruit sean for the hunt, macduff said, providing some history on another of pierces hounds. [SEP]\n",
      "[CLS] id known the mayor was annoyed at being ambushed, but i was surprised it would still be working on him hours later. i mean, realistically, i was just a kid, and he was the mayor! unless the terrible deed really did mean something to him! something he remembered from his wild days perhaps! after a bit, hoggs said slyly, saw you with that ol sheila yestidy, kev! at the festival. someone said shes a fortune teller wi them showies. [SEP] she give ye a bit of a forecast, did she? he nudged me and winked a watch this kind of wink. [SEP]\n",
      "[CLS] changed. beckett found that riggins had a duplicate manifest. he wasnt taking any of our cargo. he was simply using our ship to transport some of his own. agathas eyes narrowed in thought. i never did like that scum. too shifty, if you ask me. you relieved him of his position? nick nodded. good, i want to go home now. luuuttherrr, ooooscarrr. her shrill voice filled the room, and nick winced from [SEP] now he's bitter and angry.'' ravyn shook his head as he remembered the way nick used to be. [SEP]\n",
      "[CLS] congressman stubbs office and didnt get a warm feeling. he looked at michelle, whos stubbs? she responded, aaron, hes one of the freshmen from san diego. he brought his staff mostly with him, and they dont know how to do anything unless the whip tells them. romanoff shook his head remembering. yeah. i know who you mean now. hes a flyweight. weve got some good friends on the coast. mia percy from san francisco is a real ball buster [SEP] soon enough he'd erase her mind. what did it matter if she knew more in the interim about him? [SEP]\n",
      "[CLS] i mean your people no harm, and besides, we are traditionally allies. the shepherdess looked uncertain. youre the king? she said dazedly. walwain shook his head. i was a king, up in the north. but i was worsted in battle by king vortigerns saxon mercenaries and now im an exile. oh, said the shepherdess, relaxing slightly. [SEP] i make note of the intersections on my map and study it. ` ` line c is only four blocks from here,'' i announce. somehow that fills me with more anxiety than the idea of peacekeepers looking for housing. [SEP]\n",
      "[CLS] brothers you dueled in barcelona? they killed my last wife and kids over what they thought was my dead body. you gave me the wands that nearly destroyed me, and ive been killing mongols with them ever since. so i no longer fear mongols slaughtering those i love. then i met this really great girl billy lit up like a fireball. congratulations! are you calling him bear jr.? bear must be projecting an invisible shield because billys quips just bounced off him. were calling him ralph, for now, but billys laugh interrupted him. ralph? [SEP] ` ` what's that?'' [SEP]\n"
     ]
    }
   ],
   "source": [
    "for i, ind in enumerate(indices):\n",
    "    if i>100:\n",
    "        break\n",
    "    if ind in subsets[0]:\n",
    "        print(tokenizer.decode(dataset[\"train\"][ind][\"input_ids\"]))"
   ]
  },
  {
   "cell_type": "code",
   "execution_count": null,
   "metadata": {},
   "outputs": [],
   "source": []
  }
 ],
 "metadata": {
  "kernelspec": {
   "display_name": "Python 3.7.12 ('ingenious-env': venv)",
   "language": "python",
   "name": "python3"
  },
  "language_info": {
   "codemirror_mode": {
    "name": "ipython",
    "version": 3
   },
   "file_extension": ".py",
   "mimetype": "text/x-python",
   "name": "python",
   "nbconvert_exporter": "python",
   "pygments_lexer": "ipython3",
   "version": "3.7.12 | packaged by conda-forge | (default, Oct 26 2021, 06:08:53) \n[GCC 9.4.0]"
  },
  "orig_nbformat": 4,
  "vscode": {
   "interpreter": {
    "hash": "13ad8c38ecb90713c33d78b40c599973b0f7cdda47714d00efe1ed11a1ec8108"
   }
  }
 },
 "nbformat": 4,
 "nbformat_minor": 2
}
