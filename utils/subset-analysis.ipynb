{
 "cells": [
  {
   "cell_type": "code",
   "execution_count": 6,
   "metadata": {},
   "outputs": [],
   "source": [
    "import torch\n",
    "import pandas as pd\n",
    "from tqdm.auto import tqdm"
   ]
  },
  {
   "cell_type": "code",
   "execution_count": 7,
   "metadata": {},
   "outputs": [],
   "source": [
    "def analyse_subsets(folder):\n",
    "    subsets=[]\n",
    "    idx=[81140]\n",
    "    idx.extend(list(range(100000, 250000, 25000)))\n",
    "    for i in idx:\n",
    "        subsets.append(set(torch.load(folder+f\"subset_indices_after_step_{i}.pt\").tolist()))\n",
    "    df=pd.DataFrame()\n",
    "    df[\"subsets\"]=[f\"{i}\" for i in idx]\n",
    "    for i in idx:\n",
    "        df[f\"{i}\"]=[0 for i in idx]\n",
    "    df.set_index(\"subsets\", inplace=True)\n",
    "    pbar=tqdm(range(45))\n",
    "    for i in range(len(idx)):\n",
    "        for j in range(i, len(idx)):\n",
    "            df[f\"{idx[i]}\"][f\"{idx[j]}\"]=len(subsets[i].intersection(subsets[j]))\n",
    "            pbar.update(1)\n",
    "    print(\"Union\")\n",
    "    s=subsets[0]\n",
    "    union=[]\n",
    "    union.append(len(subsets[0]))\n",
    "    for i in range(1, len(subsets)):\n",
    "        s=s.union(subsets[i])\n",
    "        union.append(len(s))\n",
    "    print(union)\n",
    "    print(\"Intersection\")\n",
    "    s=subsets[0]\n",
    "    intersection=[]\n",
    "    intersection.append(len(subsets[0]))\n",
    "    for i in range(1, len(subsets)):\n",
    "        s=s.intersection(subsets[i])\n",
    "        intersection.append(len(s))\n",
    "    print(intersection)\n",
    "    df.loc[\"union\"]=union\n",
    "    df.loc[\"intersection\"]=intersection\n",
    "    return df"
   ]
  },
  {
   "cell_type": "code",
   "execution_count": 8,
   "metadata": {},
   "outputs": [
    {
     "ename": "FileNotFoundError",
     "evalue": "[Errno 2] No such file or directory: '/home/hrenduchinta/LM-pretraining/subsets/fl_bert_12_09_2022_15:35:34/subset_indices_after_step_81140.pt'",
     "output_type": "error",
     "traceback": [
      "\u001b[0;31m---------------------------------------------------------------------------\u001b[0m",
      "\u001b[0;31mFileNotFoundError\u001b[0m                         Traceback (most recent call last)",
      "Cell \u001b[0;32mIn [8], line 2\u001b[0m\n\u001b[1;32m      1\u001b[0m folder\u001b[39m=\u001b[39m\u001b[39m\"\u001b[39m\u001b[39m/home/hrenduchinta/LM-pretraining/subsets/fl_bert_12_09_2022_15:35:34/\u001b[39m\u001b[39m\"\u001b[39m\n\u001b[0;32m----> 2\u001b[0m df\u001b[39m=\u001b[39manalyse_subsets(folder)\n\u001b[1;32m      3\u001b[0m df\u001b[39m.\u001b[39mto_csv(folder\u001b[39m+\u001b[39m\u001b[39m\"\u001b[39m\u001b[39manalysis.csv\u001b[39m\u001b[39m\"\u001b[39m)\n\u001b[1;32m      4\u001b[0m df\n",
      "Cell \u001b[0;32mIn [7], line 6\u001b[0m, in \u001b[0;36manalyse_subsets\u001b[0;34m(folder)\u001b[0m\n\u001b[1;32m      4\u001b[0m idx\u001b[39m.\u001b[39mextend(\u001b[39mlist\u001b[39m(\u001b[39mrange\u001b[39m(\u001b[39m100000\u001b[39m, \u001b[39m250000\u001b[39m, \u001b[39m25000\u001b[39m)))\n\u001b[1;32m      5\u001b[0m \u001b[39mfor\u001b[39;00m i \u001b[39min\u001b[39;00m idx:\n\u001b[0;32m----> 6\u001b[0m     subsets\u001b[39m.\u001b[39mappend(\u001b[39mset\u001b[39m(torch\u001b[39m.\u001b[39;49mload(folder\u001b[39m+\u001b[39;49m\u001b[39mf\u001b[39;49m\u001b[39m\"\u001b[39;49m\u001b[39msubset_indices_after_step_\u001b[39;49m\u001b[39m{\u001b[39;49;00mi\u001b[39m}\u001b[39;49;00m\u001b[39m.pt\u001b[39;49m\u001b[39m\"\u001b[39;49m)\u001b[39m.\u001b[39mtolist()))\n\u001b[1;32m      7\u001b[0m df\u001b[39m=\u001b[39mpd\u001b[39m.\u001b[39mDataFrame()\n\u001b[1;32m      8\u001b[0m df[\u001b[39m\"\u001b[39m\u001b[39msubsets\u001b[39m\u001b[39m\"\u001b[39m]\u001b[39m=\u001b[39m[\u001b[39mf\u001b[39m\u001b[39m\"\u001b[39m\u001b[39m{\u001b[39;00mi\u001b[39m}\u001b[39;00m\u001b[39m\"\u001b[39m \u001b[39mfor\u001b[39;00m i \u001b[39min\u001b[39;00m idx]\n",
      "File \u001b[0;32m/opt/conda/envs/ingenious/lib/python3.9/site-packages/torch/serialization.py:699\u001b[0m, in \u001b[0;36mload\u001b[0;34m(f, map_location, pickle_module, **pickle_load_args)\u001b[0m\n\u001b[1;32m    696\u001b[0m \u001b[39mif\u001b[39;00m \u001b[39m'\u001b[39m\u001b[39mencoding\u001b[39m\u001b[39m'\u001b[39m \u001b[39mnot\u001b[39;00m \u001b[39min\u001b[39;00m pickle_load_args\u001b[39m.\u001b[39mkeys():\n\u001b[1;32m    697\u001b[0m     pickle_load_args[\u001b[39m'\u001b[39m\u001b[39mencoding\u001b[39m\u001b[39m'\u001b[39m] \u001b[39m=\u001b[39m \u001b[39m'\u001b[39m\u001b[39mutf-8\u001b[39m\u001b[39m'\u001b[39m\n\u001b[0;32m--> 699\u001b[0m \u001b[39mwith\u001b[39;00m _open_file_like(f, \u001b[39m'\u001b[39;49m\u001b[39mrb\u001b[39;49m\u001b[39m'\u001b[39;49m) \u001b[39mas\u001b[39;00m opened_file:\n\u001b[1;32m    700\u001b[0m     \u001b[39mif\u001b[39;00m _is_zipfile(opened_file):\n\u001b[1;32m    701\u001b[0m         \u001b[39m# The zipfile reader is going to advance the current file position.\u001b[39;00m\n\u001b[1;32m    702\u001b[0m         \u001b[39m# If we want to actually tail call to torch.jit.load, we need to\u001b[39;00m\n\u001b[1;32m    703\u001b[0m         \u001b[39m# reset back to the original position.\u001b[39;00m\n\u001b[1;32m    704\u001b[0m         orig_position \u001b[39m=\u001b[39m opened_file\u001b[39m.\u001b[39mtell()\n",
      "File \u001b[0;32m/opt/conda/envs/ingenious/lib/python3.9/site-packages/torch/serialization.py:231\u001b[0m, in \u001b[0;36m_open_file_like\u001b[0;34m(name_or_buffer, mode)\u001b[0m\n\u001b[1;32m    229\u001b[0m \u001b[39mdef\u001b[39;00m \u001b[39m_open_file_like\u001b[39m(name_or_buffer, mode):\n\u001b[1;32m    230\u001b[0m     \u001b[39mif\u001b[39;00m _is_path(name_or_buffer):\n\u001b[0;32m--> 231\u001b[0m         \u001b[39mreturn\u001b[39;00m _open_file(name_or_buffer, mode)\n\u001b[1;32m    232\u001b[0m     \u001b[39melse\u001b[39;00m:\n\u001b[1;32m    233\u001b[0m         \u001b[39mif\u001b[39;00m \u001b[39m'\u001b[39m\u001b[39mw\u001b[39m\u001b[39m'\u001b[39m \u001b[39min\u001b[39;00m mode:\n",
      "File \u001b[0;32m/opt/conda/envs/ingenious/lib/python3.9/site-packages/torch/serialization.py:212\u001b[0m, in \u001b[0;36m_open_file.__init__\u001b[0;34m(self, name, mode)\u001b[0m\n\u001b[1;32m    211\u001b[0m \u001b[39mdef\u001b[39;00m \u001b[39m__init__\u001b[39m(\u001b[39mself\u001b[39m, name, mode):\n\u001b[0;32m--> 212\u001b[0m     \u001b[39msuper\u001b[39m(_open_file, \u001b[39mself\u001b[39m)\u001b[39m.\u001b[39m\u001b[39m__init__\u001b[39m(\u001b[39mopen\u001b[39;49m(name, mode))\n",
      "\u001b[0;31mFileNotFoundError\u001b[0m: [Errno 2] No such file or directory: '/home/hrenduchinta/LM-pretraining/subsets/fl_bert_12_09_2022_15:35:34/subset_indices_after_step_81140.pt'"
     ]
    }
   ],
   "source": [
    "folder=\"/home/hrenduchinta/LM-pretraining/subsets/fl_bert_12_09_2022_15:35:34/\"\n",
    "df=analyse_subsets(folder)\n",
    "df.to_csv(folder+\"analysis.csv\")\n",
    "df"
   ]
  },
  {
   "cell_type": "code",
   "execution_count": 3,
   "metadata": {},
   "outputs": [],
   "source": [
    "folder=\"/home/hrenduchinta/LM-pretraining/subsets/fl_bert_12_09_2022_15:35:34/\""
   ]
  },
  {
   "cell_type": "code",
   "execution_count": 4,
   "metadata": {},
   "outputs": [],
   "source": [
    "subsets=[]\n",
    "idx=[81140]\n",
    "idx.extend(list(range(100000, 250000, 25000)))\n",
    "for i in idx:\n",
    "    subsets.append(set(torch.load(folder+f\"subset_indices_after_step_{i}.pt\").tolist()))"
   ]
  },
  {
   "cell_type": "code",
   "execution_count": 6,
   "metadata": {},
   "outputs": [],
   "source": [
    "s=subsets[0]\n",
    "union=[]\n",
    "union.append(len(subsets[0]))\n",
    "for i in range(1, len(subsets)):\n",
    "    s=s.union(subsets[i])\n",
    "    union.append(len(s))"
   ]
  },
  {
   "cell_type": "code",
   "execution_count": 7,
   "metadata": {},
   "outputs": [],
   "source": [
    "not_selected_at_all=[i for i in range(41543418) if i not in s]"
   ]
  },
  {
   "cell_type": "code",
   "execution_count": 15,
   "metadata": {},
   "outputs": [],
   "source": [
    "from datasets import load_from_disk\n",
    "from transformers import BertTokenizerFast\n",
    "import random"
   ]
  },
  {
   "cell_type": "code",
   "execution_count": 14,
   "metadata": {},
   "outputs": [],
   "source": [
    "bert_dataset=load_from_disk(\"./../bert_dataset_prepared\")\n",
    "tokenizer=BertTokenizerFast.from_pretrained(\"bert-base-uncased\")"
   ]
  },
  {
   "cell_type": "code",
   "execution_count": 16,
   "metadata": {},
   "outputs": [],
   "source": [
    "idx=random.sample(not_selected_at_all, 100)"
   ]
  },
  {
   "cell_type": "code",
   "execution_count": 17,
   "metadata": {},
   "outputs": [
    {
     "name": "stdout",
     "output_type": "stream",
     "text": [
      "[CLS] more challenging courses and no penalty on the flat, fast days. astellas pro cycling competed with carbon litespeed blades in the 2015 uci road world championship ttt ( team time trial ). the original blade models were crafted with titanium material and ridden by many great cyclists, such as lance armstrong. gravel gravel [SEP] \" dark angel \", promotions for the album ended. controversy the first single from her album, \" get ya! \" was accused of plagiarizing britney spears's \" do somethin ', \" as proposed by the composer of the american pop star's hit. after the news started to spread, [SEP]\n",
      "---------------\n",
      "[CLS] face, it is revealed that it is water not acid. the incident helped max to reevaluate his relationship with zoe. producers decided to withhold the outcome of episode 1068 to surprise the audience. sarker teased, \" it's never what you think with zoe is it? \" the actress liked [SEP] first appearance in the state since 1965. the number six - ranked longhorns were the highest rank team the knights had ever played. ucf coach george o'leary said prior to the game, \" when you talk about elite teams, texas is an elite team from an athletics, traditions and overall standpoint [SEP]\n",
      "---------------\n",
      "[CLS] he hung up, turned to his computer, and went to work. finding out drea's real name was andrea butts took no time at all. he wasn't surprised that her name wasn't rousseau, though the ` ` butts'' was a bit unexpected. [SEP] tempered egotistical self - centred... grouch.'' ` ` i hate to say this,'' barbara said softly, shaking her head, ` ` but carol's right. nolan's been eating at mom's place for as long as i've worked there, and that'[SEP]\n",
      "---------------\n",
      "[CLS] on some undeveloped greenfield areas and as a result he was accused of undermining the green belt. during a radio interview in january 1998, prescott was asked about housing development on the green belt ; intending to convey that the government would enlarge green belt protection, prescott replied : \" it's a labour achievement [SEP] negro \" – dakillah \" si te sentis sola \" – duki tres mil millones de anos luz – emanero en espiral – lo'pibitos \" fama de puta \" – naomi preizler \" chica paranormal \" – paulo londra \" dime [SEP]\n",
      "---------------\n",
      "[CLS] them the nickname \" invincibles \" given by leading basketball journalist boti nagy. the 36ers defeated the illawarra hawks in a one - sided semi - final before gaining revenge for the 1985 grand final loss to the brisbane bullets by defeating them in the nbl's first ever three game grand final series 2 [SEP] team in league history. game 1 - 36ers 122 def. bullets 119 ( ot ) @ brisbane entertainment centre game 2 - bullets 104 def. 36ers 83 @ apollo stadium game 3 - 36ers 113 def. bullets 91 @ apollo stadium head coach : ken cole assistant coach : don shipway 1998 nbl championship [SEP]\n",
      "---------------\n",
      "[CLS] was released on the band's own parasite stuff recordings ltd label on 4 february 2008. 2008 to 2010 : second sight and tensies on 24 march 2008 kevin lennon joined on bass, whilst stobbart left on the 27th. not wanting the new material to go to waste, scanlon bought some recording equipment [SEP]. she is also the mother, by her first marriage, of rachel decter ( 1951 – 2013 ), who married elliott abrams in 1980. publications losing the first battle, winning the war the liberated woman and other americans ( 1970 ) the new chastity and other arguments against women's liberation ( 1972 [SEP]\n",
      "---------------\n",
      "[CLS] accolades received by the fellowship of the ring at the internet movie database accolades received by the two towers at the internet movie database accolades received by the return of the king at the internet movie database category : lists of accolades by film series accolades for the lord of the rings category : the lord of the rings ( film series ) [SEP] october 12, 1988 ) is a venezuelan professional baseball pitcher who is a free agent. he has played for the detroit tigers in major league baseball ( mlb ). career 2012 : debut with tigers ortega was called up to the major leagues by the detroit tigers in june 2012. he made his major league debut on june [SEP]\n",
      "---------------\n",
      "[CLS] the story of count olaf ( carrey ), a mysterious theater troupe actor, who attempts to deceive three orphans over their deceased parents'fortune. streep was cast in the role of the children's overanxious aunt josephine, a character she has described as \" a great tremulous bird [SEP]wice, poland | | - | win | align = center | 1 – 0 | julio gallegos | tko ( knee and punches ) | ksw 39 : colosseum | | align = center | 1 | align = center | 1 : 26 | warsaw, poland | references category : living people category [SEP]\n",
      "---------------\n",
      "[CLS] ` ` what about you?'' josh asked as grace swung back and forth in agitation. ` ` i'll be fine!'' i said confidently. ` ` he doesn't know my new amulet resonance. doesn't know where i live. [SEP] the old mans eyes turned wildin the light of the street lamp. you hear anything? he asked. jack had no intention of regaling the public with his werewolf tale. nor did he want to end up in a straight jacket. no, jack said. rather than explaining any further, he tipped the old guys barrel onto its wheels and pulled it [SEP]\n",
      "---------------\n",
      "[CLS] to have used hydrogen and sulfur as an electron donor. green nonsulfur bacteria used various amino and other organic acids. purple nonsulfur bacteria used a variety of nonspecific organic molecules. fossils of what are thought to be filamentous photosynthetic organisms have been dated at 3. 4 [SEP] in the atmosphere is oxygenic photosynthesis, and its first appearance is sometimes referred to as the oxygen catastrophe. geological evidence suggests that oxygenic photosynthesis, such as that in cyanobacteria, became important during the paleoproterozoic era around 2 billion years ago. modern photos [SEP]\n",
      "---------------\n",
      "[CLS] ryland threw the doors open and they climbed in. [SEP] fine. i changed the cat litter, made myself two scrambled eggs and a piece of cinnamon toast, and then i put myself to bed.'' he took a deliberate step forward. ` ` what did you do when you were in between the sheets?'' as that scent of hers flared once again, he put his mouth back where it had been... close, oh, so close. [SEP]\n",
      "---------------\n",
      "[CLS] coming from first base, and touched second base to put out tino martinez. it was the eleventh time that such a play had been executed and velarde became only the third second baseman to accomplish the feat ( though asdrubal cabrera and eric bruntlett have since achieved the feat ). ve [SEP] to new wilmington, pennsylvania, united states, the station serves the pennsylvania college area. the station is currently owned by the westminster college board of trustees. history wwnw first signed on january 31, 1968, at its present frequency of 88. 9 mhz ; but with an output power of 39 watts and the [SEP]\n",
      "---------------\n",
      "[CLS] affirming the covenant : a history of temple b'rith kodesh by peter eisenstadt. the magazine began in 1907 as the house bulletin of the baden street settlement house, which was founded by the temple b'rith kodesh sisterhood to serve a neighborhood of mostly jewish immigrants. [SEP] but revived during world war ii in both the u. s. navy and u. s. coast guard. it was discontinued as a rank in these services during the postwar period, but as an appointment, the title \" commodore \" was then used to identify senior u. s. navy captains who commanded squadrons of [SEP]\n",
      "---------------\n",
      "[CLS]t u. s. senator tom harkin. he has continued to establish himself as a leading voice and public policy advocate in the u. s. telecommunications industry. jim nussle followed him as the representative for northeast iowa. from 1991 to 2013 he served as executive vice president for public affairs, policy and communications [SEP] neutrality bill, which has been a recent source of debate among internet users. as a spokesman for verizon, one of the main opponents of the bill, tauke has expressed his discontent with net neutrality. prior to entering the house, he had served as a lawyer. he was also a two - term [SEP]\n",
      "---------------\n",
      "[CLS] more than an acid bath. ` ` oh, i touched her. and more. i can hardly wait to show you the end result of my actions.'' the relish in his tone was frightening, but his words were downright terrifying. ` ` what did you do?'' thane croaked. ` ` what did you do!'' ` ` don't worry, sent one. she'll live.'' again, he tasted no lie. he sagged against [SEP] she replayed the yawning loss she'd felt when she'd thought he would succumb. [SEP]\n",
      "---------------\n",
      "[CLS] left the dryer open and slinked past him to the elevator, pushing the down button a little too aggressively. ` ` good night.'' when the rickety doors squeaked closed behind me, i let out the breath i had been holding. * * * a scraping sound woke me out of a dead sleep. i blinked at the ceiling, trying to get my bearings. the noise was coming from directly outside my bedroom window. shadows played across the blinds. i saw the outline of a head and shoulders, and my stomach seized up. [SEP] somebody was trying to break in, trying to pry open the glass. [SEP]\n",
      "---------------\n",
      "[CLS] october 30, 1983 ) is an american politician who serves as state representative of house district 75 in the texas house of representatives. she is a democrat who was elected in november 2012 to represent an area that includes east el paso county, parts of the city of el paso and the towns of socorro, clint, fa [SEP] openly pansexual elected official in the united states. her primary platforms are to increase economic development, improve public schools, equality, and support agriculture in district 75. early life and education mary gonzalez was born and raised in clint, texas attending public schools and graduating from clint high school. gonzalez received her bachelor [SEP]\n",
      "---------------\n",
      "[CLS] and extinguished the lightning. the purple vanished. the unmanned miata coasted for half a second before the lava fireball splashed inside. the lava melted out the bottoms of the doors in seconds. the car slowed to a stop, and the lava monster stomped a foot on it, burning straight through the car's body to the [SEP] i want you to be happy, but if you need help, we'll get you help.'' i leaned back and took a deep breath. ` ` i don't know if talking to a stranger would help, and i don't want to take any drugs. [SEP]\n",
      "---------------\n",
      "[CLS] by pointing out that there were roughly equal numbers of english educated ( i. e., upper caste ) sinhalese and tamils, and that this would also guarantee a place of political parity for the tamils. thus ponnambalam proposed that the legislature should be : \" based on the balanced scheme [SEP] of the competition. then, in may 2016, 29 - time champions municipal made headlines when they signed both icute and mexican forward carlos kamiani to one - year contracts just 24 hours after being eliminated from the 2015 – 16 clausura playoffs. international career icute was first called up to train with the guatemala [SEP]\n",
      "---------------\n",
      "[CLS] what is after that? [SEP] so fifteen minutes into hybrid's monstrous set, i excused myself from jacob's stoic company and made my way down the stairs at the side of the stage and into the kansas city crowd. [SEP]\n",
      "---------------\n",
      "[CLS] he hoped they would change their minds before kraven or bounty hunters found them. [SEP] towns, blacksmiths created weapons and armor specifically for slaying magics. most people found the kings reward too tempting to ignore. many shared tahirs fear of the magics retaliating, and began preparing for the worst. towns where he was once welcomed as a hero, he was now afraid to go near for fear of putting oradens life in danger. fortunately, his journey to the centaurs did not force him to venture near larger towns, which typically meant more soldiers and therefore, more loyalty to the king [SEP]\n",
      "---------------\n",
      "[CLS] was a native of brighton, and was born into a conservative family. his mother's family had a long connection with brighton council, having been councillors and aldermen. he went to brighton college and highgate school, and then trained as a solicitor ; he qualified in 1933. solicitor he set up and became [SEP]graphic information ) catalogs figures ’ bibliographic information based on the search results from bookplus. nichigai sentei koshiki url shu ( 日 外 [UNK] 定 公 [UNK] [UNK] [UNK], lit. url collection ) lists the url of figures selected exclusively by staff of who. [SEP]\n",
      "---------------\n",
      "[CLS] devon. originally formed in 1994, the band features vocalist, guitarist and keyboardist matt bellamy, bassist and backing vocalist chris wolstenholme, and drummer dominic howard. the band released their debut full - length studio album showbiz in 1999, songwriting for which was credited entirely to bellamy. origin of symmetry followed [SEP] first cover version recording in the form of \" feeling good \". in 2002 the band released their first live video album hullabaloo : live at le zenith, paris, which was accompanied by hullabaloo soundtrack featuring a number of b - sides from previously released singles and live tracks from the video album [SEP]\n",
      "---------------\n",
      "[CLS] / she had to sit out the rest of the round, and gave control to the opposing team. if an opponent responded correctly after being challenged, his / her team took control and the challenging player was eliminated. if not, the opponent was eliminated and control passed to the player after the one who issued the challenge. [SEP] december 1944 until may 1946, he was a seaman in the united states merchant marine. he then entered texas technological college ( now texas tech university ) where he received a bachelor of science degree in geology in may 1950. while in college, he enlisted as a private in the united states marine corps reserve in july 1949 [SEP]\n",
      "---------------\n",
      "[CLS] hosting promotion, wwe. storylines between the characters played out on wwe's primary television programs, raw and smackdown. at payback in june, a promo announced the return of rob van dam, who has last been in the wwe in the 2009 royal rumble match, for money in the bank. on the june 17 [SEP] large part of the boat's hull was nevertheless still visible in 2004 in the port de la nievre at antsiranana. notes references further reading rohwer, jurgen and gerhard hummelchen. chronology of the war at sea 1939 – 1945. london : greenhill books, 1992.. [SEP]\n",
      "---------------\n",
      "[CLS] on the job, that was fine. [SEP] he nodded enthusiastically. ` ` i love the machinery,'' he said. ` ` please close the attic door, then, because i've dusted down here and i don't want to have to do that again before tomorrow afternoon.'' ` ` sure, sookie.'' dermot went up the stairs whistling. it was a tune i'd never heard before, which figured. i gathered up the pictures, keeping separate the ones that dermot had earmarked as featuring his brother. [SEP]\n",
      "---------------\n",
      "[CLS] top of its head is black, which fades to purple on the back of its neck. it has green wings, blue thighs, and a variable approximately transverse yellow band across the chest. it has an orange beak, dark - grey eyerings, and orange - red irises. juveniles have a brown beak, [SEP] regiment. as a veteran after the war he was granted 575 acres of land where he established a plantation. at some point, abbot married penelope warren and they had one son, john abbot jr., in 1779. abbot became a successful planter and lived with his family in a large and comfortable house in [SEP]\n",
      "---------------\n",
      "[CLS] name satan, the software contained a special command called repent, which rearranged the letters in the program's acronym from \" satan \" to \" santa \". description the tool was developed by dan farmer and wietse venema. neil gaiman drew the artwork for the satan documentation. satan was [SEP] was particularly useful for networked systems with multiple hosts. like most security tools, it was useful for good or malicious purposes – it was also useful to would - be intruders looking for systems with security holes. satan was written mostly in perl and utilized a web browser such as netscape, mosaic or lynx [SEP]\n",
      "---------------\n",
      "[CLS] 8 – 10 years old and is based on comparison between languages, using esperanto as a reference. since it is perfectly adapted to children, it turns out to be extremely effective from the pedagogic point of view. scientifically measured, the results confirm that such instruction of linguistic orientation : considerably increases children [SEP] huge porphyry sarcophagi of helena and constantina are grand imperial examples. scenes from roman sarcophagi gardens and baths a number of well - known large stone vases sculpted in relief from the imperial period were apparently mostly used as garden ornaments ; indeed many statues were also placed in gardens, [SEP]\n",
      "---------------\n",
      "[CLS] creek, phillyhistory. org category : neighborhoods in philadelphia category : national register of historic places in philadelphia category : houses on the national register of historic places in pennsylvania category : colonial revival architecture in pennsylvania category : historic districts in philadelphia category : west philadelphia category : houses in philadelphia category : historic districts on the national [SEP] 1968 ) is a senegalese former professional footballer who played as a striker. he made his career in the moroccan league, in wydad casablanca during 1991 to 1992 and in the saudi professional league during 1992 to 1994 with al - hilal and 1999 to 2000 with al - ittifaq. he is [SEP]\n",
      "---------------\n",
      "[CLS] : 1966 in china category : 1960s in beijing category : man - made disasters in china kavich (, also romanized as kavich ) is a village in qarah su rural district, meshgin - e sharqi district, meshgin shahr county, ardabil province, iran. at the 2006 [SEP]y wrote that he was appointed in 1930, was promoted to chair in 1936, and served a total of seventeen years. john mccutcheon, of wilfrid laurier university, wrote that he was appointed in 1921, was promoted to chair in 1938, and served a total of twenty - six years. in [SEP]\n",
      "---------------\n",
      "[CLS] [UNK] 語 a story at the cape ), 1947 yoru no shitaku ( [UNK] の [UNK] [UNK] preparations for the evening ), 1948 magun no tsuka ( [UNK] [UNK] の [UNK] [UNK] passing of a host of devils ), 1949 kaibutsu ( [UNK] [UNK] the monster ), 1950 manatsu no shi [SEP] the 1996 to 1997 period. list of constituencies : caithness and sutherland ross, cromarty and skye inverness, nairn and lochaber 1997 to 2005 all of the council area's constituencies were altered for the 1997 general election. the same constituencies were used in the 2001 general election. list [SEP]\n",
      "---------------\n",
      "[CLS] ` ` and then the wedding rite will be held before the dax.'' [SEP] know. i really didn't but i asked, ` ` what's that?'' ` ` settle, my lovely,'' she said softly, hearing and reading my tone even over the loud beat of the drums. ` ` it is whatever the warrior wants it to be. mostly, they just present the dax with their bride. then there is dancing, drinking, eating and revelry.'' ` ` do we...'' i swallowed, ` ` do we get to put clothes on for this [SEP]\n",
      "---------------\n",
      "[CLS] the people's committee of hanoi adopted the proposal to open flss semi - public middle school and high school. in 1993, french intensive courses for first graders were first introduced. in 1994, flss was awarded the third - degree labor medal from vietnam central government. french intensive courses were extended to sixth graders. [SEP] based on language - intensive courses for elementary level, the people's committee of hanoi signed the order on the opening of doan thi diem private elementary school. in 1998, college of foreign languages designated nguyen thi chi, ph. d. as the school's first headmistress. in [SEP]\n",
      "---------------\n",
      "[CLS] she had been dropped instead of parting amicably. however, further creative differences in relation to her fifth studio album finally caused lewis to leave the label. of her departure, she stated, \" i was asked to make a record that would not have been true to myself. by all means as an artist in this [SEP] both wings of the ira in the city. after operation motorman and the end of free derry and other no - go areas in northern ireland, the bogside along with the majority of the city experienced frequent street riots and sectarian conflict lasting all the way to the early 1990s. in 1974, the official ira [SEP]\n",
      "---------------\n",
      "[CLS] echolette has charted releases by hector couto, gregor tresher & birds of mind. francesca now also runs a sister label to echolette called echoe which launched in 2016 and has charted releases from herself under her given name as well as manuela gandolfo & into you. crosstown rebels in 2011 [SEP] at the winter music conference in miami. damian signed her to the label and francesca ’ s first outing was a remix for new york duo walker & royce. leaving behind the moniker of jackie misfit, francesca continued to release under her own name and changes, released 2012, was her first 4 track ep on [SEP]\n",
      "---------------\n",
      "[CLS] but, knowing that tareq favored certain unkingly, depraved activities, their uncle the king had at first said he'd reserve the crown prince title for his own son. a son he could only have if he took a second wife. [SEP] he couldn't bring himself to take another wife, he'd then said he'd name his heir according to merit, not age, with the implication clear to all that he meant farooq and would soon officially name him crown prince. tareq had then launched into non - stop plotting to overrule the king's decree. [SEP]\n",
      "---------------\n",
      "[CLS] rule is that the seller is under an obligation to take care of the thing until the time comes for performance, and that he is responsible for any damage caused by his fraud or negligence. in frumer v maitland, schreiner ja said, it will be convenient to consider first the obligations of a vendor who [SEP] along with all other italian legislation in effect at the time. in cases concerning more recent crimes, such as selling psychoactive drugs, the vatican has referenced other sources in their legal system and has reformed the code many times over the years. in addition, the turkish penal code of 1926, which replaced the 19th - [SEP]\n",
      "---------------\n",
      "[CLS] series - part story - telling, part musical performance - marked the beginning of his career in radio, which included his becoming a book reviewer on christiane charette. he made a series of 30 pieces on the history of american music during the great depression for la tete ailleurs between 2011 and 2013. this [SEP] hair extensions and a top with a skeletal mickey mouse. composition \" i wanna go \" is a dance - pop and hi - nrg song, which features a heavy bassline and drum fills ; the latter are reminiscent of english band new order's song \" blue monday \" ( 1983 ). spears sque [SEP]\n",
      "---------------\n",
      "[CLS] conferences on teaching computers and the humanities, just as digital humanities centres were becoming widespread. in 1965, the national endowment for the humanities ( neh ) was created. this organization was far ahead of its time. it even launched the office of digital humanities. there is now an annual conference entitled the international conference on digital [SEP] the individual layers are characterized by frequency independent permittivities. a more sophisticated model for treating interfacial polarization was developed by maxwell, and later generalized by wagner and sillars. maxwell considered a spherical particle with a dielectric permittivity and radius suspended in an infinite medium characterized by. certain [SEP]\n",
      "---------------\n",
      "[CLS] march 2017, with the replacement of the old rusted away roof. the school teaches a variety of subjects at gcse and a level, and guarantees a good solid education for deaf children, many of whom go onto university and other further education. the communication policy is oral, that is, sign language is not [SEP] participate in the adopt a station programme. south lanarkshire college have since adopted east kilbride rail station, crosshouse primary school have adopted hairmyres rail station, hamilton grammar school have adopted hamilton central rail station and patients and staff from nhs lanarkshire ’ s beckford lodge have adopted hamilton west [SEP]\n",
      "---------------\n",
      "[CLS] in its place, kurayami matsuri was created. kurayami means'darkness'and matsuri means'festival'in japanese. it was originally held during the night, but this was changed to evening in 1959. on may 4, the road approaching the temple ( ) is used as a track for [SEP] to a temporary holding area. they are returned to the shrine early in the morning the following day. see also list of research papers for kurayami matsuri and ohkunitama shrine 中 里 [UNK] 平 2009 matsuri boom and influence on festivals : the case of the kurayami - matsuri festival [SEP]\n",
      "---------------\n",
      "[CLS] the two men lifted the crossbar out of the deep iron brackets and dropped it on the rock. with the crossbar gone, the door was naked save for a small lever on the right side near the rock, which appeared to function as a doorknob. lawrence lifted the lever. from inside came the rusted squeak of a bolt moving. [SEP] but that night... you claimed me, and i can't shake it. i can't forget it.'' oh. i stared up at him as his words sank in. did this mean he wanted this with me? [SEP]\n",
      "---------------\n",
      "[CLS]la electra lr / lc genus : feresa pygmy killer whale, feresa attenuata dd genus : orcinus orca or killer whale, orcinus orca lr / cd genus : orcaella irrawaddy dolphin, orcaella brev [SEP] order is shown above. alternative version in 2006, last call records ( run by one of the two founders of new rose ) released a double cd of fashionably late and live at last. it had new cover art but no added material. sources lp and cd liner notes \" your autumn eyes \" 7 \" sleeve [SEP]\n",
      "---------------\n",
      "[CLS] the clothing that he and cayman had ` ` picked up'' for me wasn't stuff i'd normally wear. [SEP] oh, come on. you know im right. she grabbed her ray - bans from the center column and plopped them onto her nose. [SEP]\n",
      "---------------\n",
      "[CLS] he been doing this all night? nick was speechless. he had no idea how this had happened. it was as if he were in a trance, broken only by allies arrival. the weird thing about it was that a part of him wanted to throw her out, and get back to his work. his important work [SEP], nicky, nicholas. just like the kids playing kickball, or the kids watching the love boat every day until the end of time, he had found his ` ` niche,'' and hadn't even realized it. he looked at allie, pleadingly, opening his mouth, but unable to [SEP]\n",
      "---------------\n",
      "[CLS] venice. in 1186 it placed itself under the protection of bela iii, king of hungary and croatia. in 1202 the venetians, with the help of crusaders, reconquered and sacked zadar. hungary regained control over the city in 1358, when it was given to king louis i of hungary [SEP] the turks conquered the zadar hinterland at the beginning of the 16th century, the town became an important stronghold, ensuring venetian trade in the adriatic, the administrative center of the venetian territories in dalmatia and a cultural center. this fostered an environment in which arts and literature could flourish, and between the [SEP]\n",
      "---------------\n",
      "[CLS] death. earthlands - see earth. funlands - a place that is made up of one big amusement park and is ruled by king kid. due to his hatred for adults, any kid who turns 18 will be placed in slavery to help maintain the funlands. gamelands - a dimension that is based around the [SEP] assertions \" and accused republicans of trying \" to crank up the attack machine and make his nomination a distorted referendum on reform \". former speaker newt gingrich has historically been a republican supporter of berwick, however, writing an op - ed in the washington post in august 2000 praising berwick's work. berwick [SEP]\n",
      "---------------\n",
      "[CLS] listed here. c. n. aplodontus, northern honshu c. n. grassianus, shanxi, china c. n. keramae, kerama islands of the ryukyu islands, japan c. n. kopschi, southern china c. n. mandarinus, northern [SEP] suggestion of why they did what they did ; they were enacting an ideological demonstration through a terrorist act, and the game shines light on this as an indictment of the american dream and way of life painfully close to the main nerve. after the dawson college shooting in september 2006, when gunman kimve [SEP]\n",
      "---------------\n",
      "[CLS] be the case. dost thou agree with mine assessment that the knowledge that cyrgon hath stolen their trolls will enrage them?'' they will be discomfited out of all measure, anakha.'' how thinkest thou we might best proceed with them?'' advise them in simple words of what hath come to pass. speak not too quickly nor with obscured meaning, for they are slow of understanding.'' i have perceived as much in past dealings with them.'' wilt [SEP] i say this not in criticism, but thy trollish is rude and uncouth.'[SEP]\n",
      "---------------\n",
      "[CLS]. moondragon argues, \" what good is freedom? \" when it only leads to death. when runner fails to answer her satisfactorily, she requests to be brought back home. sometime later, thanos attacks titan, destroying the monastery and the shao - lom monks. moondragon [SEP]. early life and career st hill was born on 6 july 1893 in port of spain, trinidad, and according to c. l. r. james, his family were lower middle - class. he had two brothers who played first - class cricket for trinidad, cyl and edwin ; the latter also played test [SEP]\n",
      "---------------\n",
      "[CLS] and right now i was willing to give anything for a chance to redress those mistakes. [SEP] others echoed her question up and down the hall. [SEP]\n",
      "---------------\n",
      "[CLS] ll go talk to her, ` ` my mother said. both my brows went up. ` ` you think you can make her see reason?'' my mother gave me a jaded look as she ascended the stairs. ` ` you forget, catherine - - i've had a lot of experience dealing with a difficult child. ` ` bones laughed [SEP] ` ` anything. you can have anything you want. don't you know that?'' he groaned, scooping under my back and pulling me closer into him, tilting my hips so that each thrust hit me right smack dab on the carrara. [SEP]\n",
      "---------------\n",
      "[CLS]ia publications concerning kansas governor arn's administration available via the kgi online library category : 1906 births category : 1998 deaths category : politicians from kansas city, kansas category : governors of kansas category : kansas attorneys general category : kansas republicans category : kansas supreme court justices category : american congregationalists category : republican party state [SEP]phorylation activates akt / pkb, where deregulation of akt / pkb has been implicated in cancer and diabetes. rictor and mtorc2 have been shown to play an essential role in embryonic growth and development, perhaps due to the control that mtorc [SEP]\n",
      "---------------\n",
      "[CLS] on my bookshelf you will find a rather larger dictionary. an unexpurgated dictionary. a useful thing for a young woman to have. you may take it, and one other book. the others will remain with the cottage. you may also have my broomstick. everything else, of course, belongs to the cottage [SEP] ` ` thank you very much, miss treason. i'd like to take that book about mythology.'' ` ` ah, yes. chaffinch. a very good choice. it has been a great help to me and will, i suspect, be of particular assistance to you. [SEP]\n",
      "---------------\n",
      "[CLS]7853476646744 ] } }, { \" type \" : \" feature \", \" properties \" : { \" title \" : \" stony point fashion park ( 2003 ) \", \" marker - symbol \" : \" - letter - see \" }, \" geometry \" : { \" type \" : [SEP] the collegiate conference is the tournament held by the shakey's v - league ( svl ), a filipino women's volleyball league. the tournament will be participated by various universities and colleges in the philippines. list of collegiate conference champions per season references * category : volleyball competitions in the philippines category : college [SEP]\n",
      "---------------\n",
      "[CLS] 2004, blancho founded the company \" alquds food gmbh \", importing food especially from tunisia. the company was liquidated in 2007. in 2006, he founded with abdul hamid al - fayek the food import and export company \" a & b tradex gmbh \", which was then liquidated in [SEP] visitors in the historical value of its diverse and comprehensive collections. it is the official repository of artifacts relating to idaho ’ s and regional history. the museum ’ s collection is made up of over 250, 000 objects. the collection includes a comprehensive permanent exhibit on idaho ’ s history, and exhibits on the state ’ [SEP]\n",
      "---------------\n",
      "[CLS] below ). however, since hurricane ivan, single - family housing developments and the population have continued to grow. it is part of the daphne - fairhope - foley micropolitan area. bon secour is sometimes mentioned in hurricane report statistics, for the region, since bon secour is the eastern - most town inside the coastline of mobile bay when entering the bay from the south, indicating [SEP] arianida albosternalis is a species of beetle in the family cerambycidae. it was described by stephan von breuning in 1942. it is known from madagascar. references category : tragocephalini category : beetles described in 1942 [SEP]\n",
      "---------------\n",
      "[CLS] ` ` i'll do whatever it takes to save her.'' ewan nodded. ` ` aye, i know it. [SEP] stay with her. i'll go belowstairs to see to the supplies.'twill be a long night, alaric. it could last for days.'' ` ` she nursed me through my worse,'' alaric said quietly. ` ` i can do no less for her. she has no one. we are her family now.'t is our duty to see to her needs just as we would any other member of our clan.'' [SEP]\n",
      "---------------\n",
      "[CLS] can't help but run a hand along the car in admiration as i round the front to get in the passenger seat. i wouldn't mind running an appreciative hand over the car's owner, either, but she's been careful to keep a few feet between us from the moment we exited the house. when i climb into the car, though, it's small enough that my elbow touches hers on the middle console. ` ` so what has dr. [SEP] she pulls out onto the road and heads away from the university. ` ` you can't be mad.'' [SEP]\n",
      "---------------\n",
      "[CLS] she was right, and they both knew it. ` ` and you need to get out of this room until it's been cleaned and aired.'' she was right about that too. but... he wasn't daemon anymore. not completely. [SEP] that other side of him was swimming close to the surface, wanting to dance, wanting to play, wanting to give her a little taste of fear while he aroused her body and produced a banquet of climaxes ranging from wild screams to soft, helpless moans. he caught the back of her neck and pulled her forward gently, carefully, implacably. [SEP]\n",
      "---------------\n",
      "[CLS]jima - pena black rose is an emblem of sorrow, red rose is an emblem of love ( chyornaya roza - emblema pechali, krasnaya roza - emblema lyubvi ) by sergei solovyov canticle of the stones ( le cantique des pierre [SEP] less fortunate. sandyawan was ordained as priest in 1988. humanitarian work 1980s sandyawan started as an activist when he was in the seminary in yogyakarta, in mid 1980s. he studied the life of the poor's by putting on disguise and blend into the people, so that they don't [SEP]\n",
      "---------------\n",
      "[CLS]. it is also important to note that the fifth amendment protects certain types of evidence, specifically testimonial evidence, which are statements that are spoken by the person in question that are made under oath. for a list of other different types of evidence, see evidence ( law ). shift in court decision regarding hand [SEP] leave questions about the types of conduct that are appropriate for both the protection of the public, and criminal suspects'constitutional rights. the use of handcuffs on a suspect during a terry stop infringes on their fourth and fifth amendment rights. during the action of handcuffing a suspect, a custo [SEP]\n",
      "---------------\n",
      "[CLS] dienogest for shbg is in contrast to most other 19 - nortestosterone progestins. the volume of distribution of dienogest is relatively low at 40 l. dienogest is metabolized in the liver. metabolic pathways of dienogest include reduction of [SEP] ursinus college, where she was awarded an honorary doctorate in science in 2006. memberships director, boston beer company ( nyse : sam ) director, easterly government properties ( nyse : dea ) member of the board of directors, fitmoney, inc. member of the board of directors, [SEP]\n",
      "---------------\n",
      "[CLS] ` ` so, as i was saying, i had a really great time with you on our first date, and on the second, and on whatever the hell this was. [SEP] ` ` we've got today, saturday, and sunday to practice some of your songs until they're perfect.'' [SEP]\n",
      "---------------\n",
      "[CLS] a mexican weightlifter. he competed in the men's bantamweight event at the 1948 summer olympics. references category : year of birth missing category : possibly living people category : mexican male weightlifters category : olympic weightlifters of mexico category : weightlifters at the 1948 summer olympics category : place [SEP] 19 may 1986 ) is a tahitian footballer who plays as a midfielder for a. s. tefana in the tahiti ligue 1. international career international goals scores and results list tahiti's goal tally first. references category : 1986 births category : living people category : tahitian footballers category [SEP]\n",
      "---------------\n",
      "[CLS] year, rothermel served as prosecutor in the corruption trial of senator matthew quay. quay was found innocent after an eleven - day trial. after his term as district attorney ended in 1901, rothermel was refused renomination by the republican machine politicians, owing to his prosecution of quay. he was nominated by [SEP] training camp mode, sponsored by hockey canada, allowing users to learn the rules of hockey, and how to play the game through video tutorials. tutorials include how to shoot ; taking faceoffs ; learning new dekes ; playing defense ; playing as a goalie ; and several rules of hockey, including offs [SEP]\n",
      "---------------\n",
      "[CLS] people she had little in common with, except the urge to be on the move. in her heart they felt more like friends than kim did. [SEP] you dare..!'' the squeal turned into hysterical giggles when he started tickling her. ` ` i'm sorry... stop... harris!'' harris stopped tickling her but didn't set her down as we entered the little boutique / art gallery. small fists hit my kid in the back as she struggled to get free. ` ` you are such a pig,'' lucy muttered, finally giving up and propping [SEP]\n",
      "---------------\n",
      "[CLS] construction of the world war ii memorial in the district of columbia \" ( ) in 2001. this law required that the national world war ii memorial be constructed, and removed this decision from the jurisdiction of the federal courts. unbuilt memorials as of september 2012, 19 commemorative works had been approved by the national capital [SEP], 2011 to january 3, 2013 ), to commemorate everything from world war i veterans to environmentalist rachel carson to fair housing. congress has authorized several as - yet unbuilt memorials for the commission to review : dwight d. eisenhower memorial ( authorized 1999, authorization in area i 2006 ; under construction ) [SEP]\n",
      "---------------\n",
      "[CLS] -'' ` ` i will not talk about this.'' her hand fell away and her thin shoulders straightened. ` ` this is nonsense. ridiculous. there are no -'' ` ` i'm a demon.'' the first time she'd confessed. made her feel... strange [SEP] augusta's bulletriddled body lying in a pool of blood that slowly expanded, staining the white carpet crimson. chapter 20 benjy refused to let go of me as knox led us down to the infirmary. greyson stayed with the handful of guards that remained in the room to deal with augusta'[SEP]\n",
      "---------------\n",
      "[CLS] films category : fictional comets category : films based on works by paul gallico category : films directed by jerry jameson category : impact event films category : nbc network original films category : films scored by paul chihara [SEP] ) is a 1975 malayalam - language indian feature film, directed by p. bhaskaran, starring kamal haasan, roja ramani, sheela, adoor bhasi, bahadoor, sukumari, jose prakash, prema menon, m. g. soman and vincent. it is a remake of the 1974 telugu film o seeta katha, which was also later remade in 1976 [SEP]\n",
      "---------------\n",
      "[CLS]ophytica is a gram - positive, aerobic, endophytic and non - motile bacterium from the genus of labedella which has been isolated from the stem of the plant anabasis elatior from urumqi in china. references category : micrococcineae category : bacteria [SEP] and later made \" ambrosia \" rice pudding. passenger trains and public goods traffic ceased on 31 december 1962 but the line to lydford was retained to carry the trains from the milk factory but this closed on 28 february 1966. launceston the terminus of the line. the north cornwall railway opened a [SEP]\n",
      "---------------\n",
      "[CLS] so that afternoon while i worked in a daze at the library, newspeople were watching my apartment and my mother's office. [SEP] it big? small? did it have fur?'' he growled, his teeth bared, and an animal scent rolled off him. she'd pushed him too far. she almost quailed. she almost backed down. his aggression was palpable, and it frightened her. but she fought not to let that show. stood her ground. being alpha was a new feeling for her. ` ` so you could have killed someone,'' she said. he pulled away and covered [SEP]\n",
      "---------------\n",
      "[CLS] 1942 ) is an american politician who formerly served as the mayor of muncie, indiana. on november 18, 2019, he was arrested by the federal bureau of investigation and charged with theft of government funds. he is scheduled to stand trial in 2020, his mayoral term having expired on january 1. career tyler grew [SEP] muncie central high school. he served as a line captain for the muncie fire department before retiring after 42 years of service. on january 4, 2006, he was sworn into office as a member of the indiana house of representatives, where he represented district 34 for six years. tyler served on committees [SEP]\n",
      "---------------\n",
      "[CLS] and the game responding. ashens harshly criticises a fatal glitch in the amstrad cpc release ; the game prevents the player from platforming to an upper level, instead treating it as a ceiling that the player cannot go through. this causes the second room in the game to be \" impossible to complete [SEP] player to the next level. this level skip has limited uses, and ashens calls count duckula 2'' \" an absolute travesty. \" references external links category : zx spectrum games category : amstrad cpc games category : platform games category : 1992 video games category : video games based on [SEP]\n",
      "---------------\n",
      "[CLS] monsters was hard work, because they were everywhere. silence hung in the room, too thick. jude swore. ` ` fine. i'll take a look at the body and see what i -'' erin grabbed his hand when he tried to push past her, and she kissed her new life good - bye. ` ` it was a shifter.'' antonio exhaled. ` ` damn woman.'' jude's skin felt warm beneath her fingertips. [SEP] his eyes bored into hers, and she watched his pupils flare. dangerous. she pulled her hand back and smoothed her fingers over the soft cotton of her pants. [SEP]\n",
      "---------------\n",
      "[CLS] is a rope or wire strung from a ship's bow to stern to which a safety harness can be clipped, allowing a crewmember to move about the deck safely when there is risk of falling or being swept overboard. at sea, falling overboard is one of the leading causes of death in boating ; fastening [SEP]lines are run from the bow to the stern on both starboard and the port side of a ship. jack lines are used in heavy weather and in periods of reduced visibility, i. e. fog or at night. jacklines may be rigged temporarily when bad weather is expected, or, especially on sailboats heading [SEP]\n",
      "---------------\n",
      "[CLS] on mine like lightning, and the world stopped moving for a moment as i was yanked back in time to the night of the accident. back to when i was just a boy who had a crush on a girl and couldn't get up the courage to talk to her. but things had changed since then. [SEP] i reserved my magic for the main event. this barely qualified as the warm - up bout. so i just stood there, slashing the giant with my knives. by the time i'd made my third pass with the silverstone weapons, the giant's pink guts could be seen through the ripped fabric [SEP]\n",
      "---------------\n",
      "[CLS] posters all show buster with his hands on the bars. unaware, buster moves on to a street corner, where he notices a horseshoe, and kicks it aside. the next man who comes along picks it up and throws it for good luck. within seconds the man finds a wallet filled with money. after scrambling to find [SEP] uncovered. glynis explains that the night she was driving she had been told that her husband was close to death and wasn't concentrating on the road properly. as a result, she didn't realise she was about to hit victor until it was too late and had stopped, but left when she saw [SEP]\n",
      "---------------\n",
      "[CLS] is a book by british sociologist and politician michael dunlop young which was first published in 1958. it describes a dystopian society in a future united kingdom in which intelligence and merit have become the central tenet of society, replacing previous divisions of social class and creating a society stratified between a merited power [SEP] trail in western wisconsin that follows the path of the chippewa river. the trails runs from the spot of the confluence of the chippewa with the eau claire river, at phoenix park in downtown eau claire ( ), meeting up with the red cedar state trail near red cedar ( ), to [SEP]\n",
      "---------------\n",
      "[CLS] the action sent a new wave of lust straight to her core. ` ` when?'' ` ` when you danced on the table with tate.'' ` ` i thought you were angry with me dancing?'' [SEP] what was going on. the whiskey had given her the courage to have a good time. talking with tate and watching everyone have fun she'd wanted to be like them for at least once in her life. her mother hadn't wanted her to get involved with the bikers and did everything she could to keep her away. getting to know the skulls had shown they were a bunch of guys [SEP]\n",
      "---------------\n",
      "[CLS] third parties to deprive him of his civil rights. both parties reached a settlement on 20 april 2007, agreeing to drop their respective lawsuits. under the terms of the settlement, thompson has been barred from suing to ban the sale or distribution of games by take - two or its subsidiaries. he is restricted to [SEP] outspoken stance against their titles and may act as counsel in lawsuits against take - two by other parties. for their part, take - two agreed to drop the contempt of court lawsuit against thompson regarding alleged improper conduct during the court hearings for rockstar's game bully in 2006. thompson filed a document with a federal [SEP]\n",
      "---------------\n",
      "[CLS] this, all within my own mind. [SEP] other hindrances came word of an embassy from the great king who lives to the south and east. ` ` another plague,'' said i. and when the strangers came ( and there must be hours of talk, and a feast for them afterwards ) i liked them none the better for finding that their chief man was a eunuch. eunuchs are very great men at that court. this one was the fattest man i ever saw, so fat his eyes could hardly see over his cheeks, all shining and reeking with oil, and tricked out with as much [SEP]\n",
      "---------------\n",
      "[CLS] the reasons for his arrest or detention. article 10 every person who is charged with a criminal offence — ( b ) shall be informed as soon as reasonably practicable, in a language that he or she understands and in detail, of the nature of the offence charged. ( f ) shall be permitted to have without [SEP] per household. there were 103 households that consist of only one person and 70 households with five or more people. out of a total of 470 households that answered this question, 21. 9 % were households made up of just one person and there were 7 adults who lived with their parents. of the rest of the [SEP]\n",
      "---------------\n",
      "[CLS] this episode was the perfect welcome back. it kept things in the family, no cameos, no big stunts, just each member doing what they do best. and it started off with a bang — with everyone stating what his or her greatest fears were. \" references external links \" fears \" at abc. com category [SEP] states basketball league for the cedar rapids river raiders during the 2004 - 2005 season. williams later played in the continental basketball association league, playing for the dakota wizards during the 2005 - 2006 seasons. shortly after, williams was drafted to play in argentina and upon his return to the u. s, he was drafted into [SEP]\n",
      "---------------\n",
      "[CLS] law. this marked the beginning of a 14 - year period of one man rule which would effectively last until marcos was exiled from the country on february 25, 1986. even though the formal document proclaiming martial law - proclamation no. 1081 - was formally lifted on january 17, 1981, marcos retained virtually all of [SEP] revolution. first term ( 1965 – 1969 ) presidential campaign marcos ran a populist campaign emphasizing that he was a bemedalled war hero emerging from world war ii. in 1962, marcos would claim to be the most decorated war hero of the philippines by garnering almost every medal and decoration that the filipino [SEP]\n",
      "---------------\n",
      "[CLS] the population of tiruchirappalli continued to grow rapidly, achieving a growth rate of 36. 9 % during the period 1941 – 51. after independence in 1947, tiruchirappalli fell behind other cities such as salem and coimbatore in terms of growth. tiruchirappa [SEP] of christopher saxton. other works in 1648 jenner published a series of tracts entitled a further narrative of the passages of these times, containing an engraving of the populace pulling down cheapside cross, together with portraits of oliver cromwell, francis manners, 6th earl of rutland, and sir william wadd, constable of [SEP]\n",
      "---------------\n",
      "[CLS] he chuckled, pulled out a magazine, and held it up. monthly disco review, read the cover, which featured a couple in flimsy chiffon beneath an enormous disco ball. ` ` a classic publication,'' i said. ` ` better photographs than disco review monthly and better articles than the disco month in review.'' jeff chuckled, as i'd meant him to. ` ` you're avoiding the question.'' ` ` not avoiding,'' jeff said. [SEP] we saw kim, back in a small country town about one hundred miles south of here. she was with doctor hunter. [SEP]\n",
      "---------------\n",
      "[CLS]ariou monastery records the \" pansebastos sebastos andronikos doukas \" serving as \" doux and praetor \" of thessalonica in january / february 1112. andronikos died young of heart failure, predeceasing his parents. his death is [SEP] a steel sky. on september 25, 2012, revolution announced that beneath a steel sky 2 would be greenlit if their broken sword 5 : the serpent's curse kickstarter reached $ 1 million. despite broken sword : the serpent's curse failing to meet the $ 1 million'stretch goal ', [SEP]\n",
      "---------------\n",
      "[CLS] at the 1998 asian games in bangkok, thailand was held on 15 december at the thammasat stadium. schedule all times are indochina time ( utc + 07 : 00 ) results legend dns — did not start dsq — disqualified references results ( archived ) external links official meet results category : athletics at the 1998 asian [SEP] is an australian rules football and netball club that plays in the bellarine football league and situated in the township of barwon heads, near the city of geelong in victoria. the club plays its home games at howard harmer oval of barwon heads, and wears a light blue and royal blue jumper with a sea [SEP]\n",
      "---------------\n",
      "[CLS] peter came up from below and stood beside celeste. he nodded at jake with a smile. it seemed a given to howie that peter now knew as well and it wouldnt be long before celeste knew. [SEP] was his time, he would have gone.'' she returned to her spot on the floor, karla on her right, gabrielle on her left. he returned to his study and waned a glass of yarbarah. puppet masters. manipulators. hekatah and her schemes. jaenelle and her sensitivity to other hearts. such a fine, fragile line, with intent the only difference. he picked up [SEP]\n",
      "---------------\n",
      "[CLS]lv, serving as a graduate assistant during the first season. in 1990 holt moved north to serve as the defensive line coach at idaho under head coach john l. smith, then chris tormey. after eight seasons in moscow, he moved east in 1998 to louisville to coach the defensive line under smith again. [SEP] at usc under carroll, where he stayed for three seasons. idaho following the 2003 season, tom cable was fired after four seasons at idaho, the first vandals head coach in 22 years to be dismissed. holt returned to the palouse and was hired as the head coach, signing a four - year contract [SEP]\n",
      "---------------\n",
      "[CLS] agricultural or forestry purposes and has only local significance. agricultural roads are typically unpaved dirt roads or covered with gravel, but in some cases asphalt roads are agricultural roads. in the united states, a \" farm - to - market road \" or \" ranch - to - market road \" ( sometimes \" farm road \" [SEP] in a scientific experiment for detecting tau neutrinos from muon neutrino oscillations. the experiment is a collaboration between cern in geneva, switzerland, and the laboratori nazionali del gran sasso ( lngs ) in gran sasso, italy and uses the ce [SEP]\n",
      "---------------\n",
      "[CLS] included in the previous dvd releases. the uk blu - ray ( region b ) release by arrow films also features the above release ’ s extras plus the us version of the film entitled black sunday and a print of i vampiri ( 1956 ) ( in standard definition ) which bava also worked on. see also vi [SEP] films category : vampires in film category : gothic horror films category : horror films featuring female antagonists category : films about witchcraft category : films set in the 1630s category : films set in the 19th century category : films set in romania category : films set in moldova category : american international pictures films category : films based [SEP]\n",
      "---------------\n",
      "[CLS] ranks of the swedish army [SEP]llensen. in the 17th century a monastic farm estate known as klosterhof medingen ( medingen monastery estate ) where, 50 years ago, a trakehner stud was established. medingen abbey in 1228 the convent was founded as a branch of the cistercian nunnery at wolmirstedt ( north of magdeburg ). in 1336 it was permanently established in medingen. the monastery was originally built in the brick gothic style. the majority of nuns were unmarried daughters of luneburg patrician families who joined the convent with large household staff and so increased [SEP]\n",
      "---------------\n",
      "[CLS] just a remarkably frank film about homosexuality, a topic which was still highly taboo at this time, but also a moral challenge to the outmoded german law against procuring. as a result of its handling of both these issues, the film was initially banned and had to be revised. entitled bewildered youth on its [SEP] serial ) – dr. elmore passkey to danger ( 1946 ) – alexander cardovsky the french key ( 1946 ) – john holterman dark alibi ( 1946 ) – anthony r. morgan little miss big ( 1946 ) – sanford baxter temptation ( 1946 ) – don gibbs ( uncredited ) backlash ( 1947 ) [SEP]\n",
      "---------------\n",
      "[CLS] view, this is made - up hysteria anyway. \" he noted that the administration did not alter the report's findings but rather chose to release it the day after thanksgiving \" on a day when nobody cares, and hope it gets swept away by the next day ’ s news. \" an article in the atlantic called [SEP] the washington post and vox described the report as \" major \". the post described it as the trump administration's climate report. vox news described it as \" dire \". a november 23, 2018 reuters article published in the new york times cited the nca4 : \" with continued growth in emissions at historic [SEP]\n",
      "---------------\n",
      "[CLS] parliament has not yet considered properly this narrowly averted national crisis. we need to establish what went right and also what can be improved upon. \" he also later stated \" it is wrong to dismiss these floods as a once in a 500 - year occurrence. there were floods six years ago [ in this context, note [SEP] home constituency, but mr. aldous is making the point that the risk of flooding is a national problem that needs addressing and not just a regional issue. the flood of 2007 caused £6billion worth of damage ]. i think with rising sea levels these are going to be a thing of the future and [SEP]\n",
      "---------------\n",
      "[CLS] stun followed, with the band making the decision to enhance the live sound with the addition of second guitarist, ian holman. ian was felt by the band to complement the songwriting dynamic and joined as a permanent member later the same year. october 1994 saw the release of the three track shadows & silhouettes demo on [SEP] that her husband is cheating on her, thinking that if he can destroy their marriage, then he and wellington can become lovers. kika finds wellington and dayse together, attacks them, and then leaves for good. wellington goes to the texas hotel to seek solace. dunga wants to take wellington up to [SEP]\n",
      "---------------\n",
      "[CLS] christianization of the pagan prussians. the friendship led to the congress of gniezno in the year 1000, during which an autonomous polish archbishopric at gniezno was established, and possibly, otto acquiesced to bolesław becoming a king. however, otto iii died soon after in [SEP]s ) design principle called the 100 % rule. dr. haugan is vice president of glh, incorporated, a management consulting firm for project management, information systems, management consulting, and training support. haugan has had several books published and has been working as a consultant to the general services [SEP]\n",
      "---------------\n"
     ]
    }
   ],
   "source": [
    "for i in idx:\n",
    "    print(tokenizer.decode(bert_dataset[\"train\"][i][\"input_ids\"]))\n",
    "    print(\"---------------\")"
   ]
  },
  {
   "cell_type": "code",
   "execution_count": 1,
   "metadata": {},
   "outputs": [
    {
     "name": "stderr",
     "output_type": "stream",
     "text": [
      "/opt/conda/envs/ingenious/lib/python3.9/site-packages/tqdm/auto.py:22: TqdmWarning: IProgress not found. Please update jupyter and ipywidgets. See https://ipywidgets.readthedocs.io/en/stable/user_install.html\n",
      "  from .autonotebook import tqdm as notebook_tqdm\n"
     ]
    }
   ],
   "source": [
    "import torch"
   ]
  },
  {
   "cell_type": "code",
   "execution_count": 7,
   "metadata": {},
   "outputs": [],
   "source": [
    "folder=\"/home/hrenduchinta/LM-pretraining/subsets/fl_bert_23_12_2022_02:38:00\"\n",
    "steps=list(range(0, 100000, 10000))\n",
    "steps=[81140]+list(range(100000, 500000, 25000))\n",
    "subsets=[]\n",
    "for step in steps:\n",
    "    subsets.append(set(torch.load(f\"{folder}/subset_indices_after_step_{step}.pt\").tolist()))"
   ]
  },
  {
   "cell_type": "code",
   "execution_count": 8,
   "metadata": {},
   "outputs": [
    {
     "name": "stdout",
     "output_type": "stream",
     "text": [
      "10385855\n",
      "2763654\n",
      "868027\n",
      "380348\n",
      "244379\n",
      "199994\n",
      "181458\n",
      "170933\n",
      "163760\n",
      "158261\n",
      "153755\n",
      "150051\n",
      "146962\n",
      "144289\n",
      "141728\n",
      "139652\n"
     ]
    }
   ],
   "source": [
    "s=subsets[0]\n",
    "for i in range(1, len(subsets)):\n",
    "    print(len(s))\n",
    "    s=s.intersection(subsets[i])"
   ]
  },
  {
   "cell_type": "code",
   "execution_count": 9,
   "metadata": {},
   "outputs": [
    {
     "name": "stdout",
     "output_type": "stream",
     "text": [
      "2763654\n",
      "2765053\n",
      "2765113\n",
      "2765753\n",
      "2764397\n",
      "2763983\n",
      "2763976\n",
      "2766443\n",
      "2764223\n"
     ]
    }
   ],
   "source": [
    "s=subsets[0]\n",
    "for i in range(1, 10):\n",
    "    print(len(subsets[0].intersection(subsets[i])))"
   ]
  },
  {
   "cell_type": "code",
   "execution_count": null,
   "metadata": {},
   "outputs": [],
   "source": []
  }
 ],
 "metadata": {
  "kernelspec": {
   "display_name": "ingenious-env",
   "language": "python",
   "name": "python3"
  },
  "language_info": {
   "codemirror_mode": {
    "name": "ipython",
    "version": 3
   },
   "file_extension": ".py",
   "mimetype": "text/x-python",
   "name": "python",
   "nbconvert_exporter": "python",
   "pygments_lexer": "ipython3",
   "version": "3.7.12 | packaged by conda-forge | (default, Oct 26 2021, 06:08:53) \n[GCC 9.4.0]"
  },
  "orig_nbformat": 4,
  "vscode": {
   "interpreter": {
    "hash": "13ad8c38ecb90713c33d78b40c599973b0f7cdda47714d00efe1ed11a1ec8108"
   }
  }
 },
 "nbformat": 4,
 "nbformat_minor": 2
}
